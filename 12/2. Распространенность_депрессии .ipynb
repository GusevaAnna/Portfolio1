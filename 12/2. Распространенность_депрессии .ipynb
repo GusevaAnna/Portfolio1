{
  "nbformat": 4,
  "nbformat_minor": 0,
  "metadata": {
    "colab": {
      "provenance": [],
      "toc_visible": true
    },
    "kernelspec": {
      "name": "python3",
      "display_name": "Python 3"
    },
    "language_info": {
      "name": "python"
    }
  },
  "cells": [
    {
      "cell_type": "markdown",
      "source": [
        "Исследование показателей о распространенности депрессивных расстройств среди мужчин и женщин, а также информацию о населении по странам и годам."
      ],
      "metadata": {
        "id": "jRRAiFd4N1Rz"
      }
    },
    {
      "cell_type": "markdown",
      "source": [],
      "metadata": {
        "id": "QL7HEWgOn4RZ"
      }
    },
    {
      "cell_type": "markdown",
      "source": [
        "# Чтение данных и преобразование"
      ],
      "metadata": {
        "id": "wttbqCTwOMG2"
      }
    },
    {
      "cell_type": "code",
      "source": [
        "!mkdir -p ~/.kaggle\n",
        "from google.colab import files\n",
        "files.upload()  # Загрузите kaggle.json\n",
        "!mv kaggle.json ~/.kaggle/\n",
        "!chmod 600 ~/.kaggle/kaggle.json"
      ],
      "metadata": {
        "colab": {
          "base_uri": "https://localhost:8080/",
          "height": 73
        },
        "id": "NhsN8-dXFfaf",
        "outputId": "dbddf469-ff00-4db5-dc4e-4dfcefa3fa56"
      },
      "execution_count": 57,
      "outputs": [
        {
          "output_type": "display_data",
          "data": {
            "text/plain": [
              "<IPython.core.display.HTML object>"
            ],
            "text/html": [
              "\n",
              "     <input type=\"file\" id=\"files-b3f3759a-60ee-47ef-a9ca-e822a3bebb4d\" name=\"files[]\" multiple disabled\n",
              "        style=\"border:none\" />\n",
              "     <output id=\"result-b3f3759a-60ee-47ef-a9ca-e822a3bebb4d\">\n",
              "      Upload widget is only available when the cell has been executed in the\n",
              "      current browser session. Please rerun this cell to enable.\n",
              "      </output>\n",
              "      <script>// Copyright 2017 Google LLC\n",
              "//\n",
              "// Licensed under the Apache License, Version 2.0 (the \"License\");\n",
              "// you may not use this file except in compliance with the License.\n",
              "// You may obtain a copy of the License at\n",
              "//\n",
              "//      http://www.apache.org/licenses/LICENSE-2.0\n",
              "//\n",
              "// Unless required by applicable law or agreed to in writing, software\n",
              "// distributed under the License is distributed on an \"AS IS\" BASIS,\n",
              "// WITHOUT WARRANTIES OR CONDITIONS OF ANY KIND, either express or implied.\n",
              "// See the License for the specific language governing permissions and\n",
              "// limitations under the License.\n",
              "\n",
              "/**\n",
              " * @fileoverview Helpers for google.colab Python module.\n",
              " */\n",
              "(function(scope) {\n",
              "function span(text, styleAttributes = {}) {\n",
              "  const element = document.createElement('span');\n",
              "  element.textContent = text;\n",
              "  for (const key of Object.keys(styleAttributes)) {\n",
              "    element.style[key] = styleAttributes[key];\n",
              "  }\n",
              "  return element;\n",
              "}\n",
              "\n",
              "// Max number of bytes which will be uploaded at a time.\n",
              "const MAX_PAYLOAD_SIZE = 100 * 1024;\n",
              "\n",
              "function _uploadFiles(inputId, outputId) {\n",
              "  const steps = uploadFilesStep(inputId, outputId);\n",
              "  const outputElement = document.getElementById(outputId);\n",
              "  // Cache steps on the outputElement to make it available for the next call\n",
              "  // to uploadFilesContinue from Python.\n",
              "  outputElement.steps = steps;\n",
              "\n",
              "  return _uploadFilesContinue(outputId);\n",
              "}\n",
              "\n",
              "// This is roughly an async generator (not supported in the browser yet),\n",
              "// where there are multiple asynchronous steps and the Python side is going\n",
              "// to poll for completion of each step.\n",
              "// This uses a Promise to block the python side on completion of each step,\n",
              "// then passes the result of the previous step as the input to the next step.\n",
              "function _uploadFilesContinue(outputId) {\n",
              "  const outputElement = document.getElementById(outputId);\n",
              "  const steps = outputElement.steps;\n",
              "\n",
              "  const next = steps.next(outputElement.lastPromiseValue);\n",
              "  return Promise.resolve(next.value.promise).then((value) => {\n",
              "    // Cache the last promise value to make it available to the next\n",
              "    // step of the generator.\n",
              "    outputElement.lastPromiseValue = value;\n",
              "    return next.value.response;\n",
              "  });\n",
              "}\n",
              "\n",
              "/**\n",
              " * Generator function which is called between each async step of the upload\n",
              " * process.\n",
              " * @param {string} inputId Element ID of the input file picker element.\n",
              " * @param {string} outputId Element ID of the output display.\n",
              " * @return {!Iterable<!Object>} Iterable of next steps.\n",
              " */\n",
              "function* uploadFilesStep(inputId, outputId) {\n",
              "  const inputElement = document.getElementById(inputId);\n",
              "  inputElement.disabled = false;\n",
              "\n",
              "  const outputElement = document.getElementById(outputId);\n",
              "  outputElement.innerHTML = '';\n",
              "\n",
              "  const pickedPromise = new Promise((resolve) => {\n",
              "    inputElement.addEventListener('change', (e) => {\n",
              "      resolve(e.target.files);\n",
              "    });\n",
              "  });\n",
              "\n",
              "  const cancel = document.createElement('button');\n",
              "  inputElement.parentElement.appendChild(cancel);\n",
              "  cancel.textContent = 'Cancel upload';\n",
              "  const cancelPromise = new Promise((resolve) => {\n",
              "    cancel.onclick = () => {\n",
              "      resolve(null);\n",
              "    };\n",
              "  });\n",
              "\n",
              "  // Wait for the user to pick the files.\n",
              "  const files = yield {\n",
              "    promise: Promise.race([pickedPromise, cancelPromise]),\n",
              "    response: {\n",
              "      action: 'starting',\n",
              "    }\n",
              "  };\n",
              "\n",
              "  cancel.remove();\n",
              "\n",
              "  // Disable the input element since further picks are not allowed.\n",
              "  inputElement.disabled = true;\n",
              "\n",
              "  if (!files) {\n",
              "    return {\n",
              "      response: {\n",
              "        action: 'complete',\n",
              "      }\n",
              "    };\n",
              "  }\n",
              "\n",
              "  for (const file of files) {\n",
              "    const li = document.createElement('li');\n",
              "    li.append(span(file.name, {fontWeight: 'bold'}));\n",
              "    li.append(span(\n",
              "        `(${file.type || 'n/a'}) - ${file.size} bytes, ` +\n",
              "        `last modified: ${\n",
              "            file.lastModifiedDate ? file.lastModifiedDate.toLocaleDateString() :\n",
              "                                    'n/a'} - `));\n",
              "    const percent = span('0% done');\n",
              "    li.appendChild(percent);\n",
              "\n",
              "    outputElement.appendChild(li);\n",
              "\n",
              "    const fileDataPromise = new Promise((resolve) => {\n",
              "      const reader = new FileReader();\n",
              "      reader.onload = (e) => {\n",
              "        resolve(e.target.result);\n",
              "      };\n",
              "      reader.readAsArrayBuffer(file);\n",
              "    });\n",
              "    // Wait for the data to be ready.\n",
              "    let fileData = yield {\n",
              "      promise: fileDataPromise,\n",
              "      response: {\n",
              "        action: 'continue',\n",
              "      }\n",
              "    };\n",
              "\n",
              "    // Use a chunked sending to avoid message size limits. See b/62115660.\n",
              "    let position = 0;\n",
              "    do {\n",
              "      const length = Math.min(fileData.byteLength - position, MAX_PAYLOAD_SIZE);\n",
              "      const chunk = new Uint8Array(fileData, position, length);\n",
              "      position += length;\n",
              "\n",
              "      const base64 = btoa(String.fromCharCode.apply(null, chunk));\n",
              "      yield {\n",
              "        response: {\n",
              "          action: 'append',\n",
              "          file: file.name,\n",
              "          data: base64,\n",
              "        },\n",
              "      };\n",
              "\n",
              "      let percentDone = fileData.byteLength === 0 ?\n",
              "          100 :\n",
              "          Math.round((position / fileData.byteLength) * 100);\n",
              "      percent.textContent = `${percentDone}% done`;\n",
              "\n",
              "    } while (position < fileData.byteLength);\n",
              "  }\n",
              "\n",
              "  // All done.\n",
              "  yield {\n",
              "    response: {\n",
              "      action: 'complete',\n",
              "    }\n",
              "  };\n",
              "}\n",
              "\n",
              "scope.google = scope.google || {};\n",
              "scope.google.colab = scope.google.colab || {};\n",
              "scope.google.colab._files = {\n",
              "  _uploadFiles,\n",
              "  _uploadFilesContinue,\n",
              "};\n",
              "})(self);\n",
              "</script> "
            ]
          },
          "metadata": {}
        },
        {
          "output_type": "stream",
          "name": "stdout",
          "text": [
            "Saving kaggle.json to kaggle.json\n"
          ]
        }
      ]
    },
    {
      "cell_type": "code",
      "source": [
        "!mkdir -p ~/.kaggle  # Создание директории для хранения API ключа\n",
        "!mv kaggle.json ~/.kaggle/  # Перемещение файла в эту директорию\n",
        "!chmod 600 ~/.kaggle/kaggle.json  # Установка прав доступа"
      ],
      "metadata": {
        "id": "_P7PcQ2ZH8No",
        "colab": {
          "base_uri": "https://localhost:8080/"
        },
        "outputId": "9f890a97-1144-4b58-fedb-a3c6c1919ee4"
      },
      "execution_count": 58,
      "outputs": [
        {
          "output_type": "stream",
          "name": "stdout",
          "text": [
            "mv: cannot stat 'kaggle.json': No such file or directory\n"
          ]
        }
      ]
    },
    {
      "cell_type": "code",
      "source": [
        "!kaggle datasets download -d programmerrdai/mental-health-dataset"
      ],
      "metadata": {
        "id": "oy9S3c01HgzR",
        "colab": {
          "base_uri": "https://localhost:8080/"
        },
        "outputId": "04bdb70a-f63f-4a81-9a7a-92300ffc083c"
      },
      "execution_count": 59,
      "outputs": [
        {
          "output_type": "stream",
          "name": "stdout",
          "text": [
            "Dataset URL: https://www.kaggle.com/datasets/programmerrdai/mental-health-dataset\n",
            "License(s): CC0-1.0\n",
            "mental-health-dataset.zip: Skipping, found more recently modified local copy (use --force to force download)\n"
          ]
        }
      ]
    },
    {
      "cell_type": "code",
      "source": [
        "!unzip mental-health-dataset.zip"
      ],
      "metadata": {
        "id": "QNUD0bUZIWQ0",
        "colab": {
          "base_uri": "https://localhost:8080/"
        },
        "outputId": "ae370e74-710d-4d1b-d053-0a197ccf40e5"
      },
      "execution_count": 60,
      "outputs": [
        {
          "output_type": "stream",
          "name": "stdout",
          "text": [
            "Archive:  mental-health-dataset.zip\n",
            "replace mental-and-substance-use-as-share-of-disease.csv? [y]es, [n]o, [A]ll, [N]one, [r]ename: A\n",
            "  inflating: mental-and-substance-use-as-share-of-disease.csv  \n",
            "  inflating: prevalence-by-mental-and-substance-use-disorder.csv  \n",
            "  inflating: prevalence-of-depression-males-vs-females.csv  \n",
            "  inflating: share-with-depression.csv  \n",
            "  inflating: share-with-mental-and-substance-disorders.csv  \n",
            "  inflating: share-with-mental-or-substance-disorders-by-sex.csv  \n"
          ]
        }
      ]
    },
    {
      "cell_type": "markdown",
      "source": [],
      "metadata": {
        "id": "elgq0qn-mN52"
      }
    },
    {
      "cell_type": "code",
      "source": [
        "import pandas as pd\n",
        "import matplotlib.pyplot as plt\n",
        "import seaborn as sns\n",
        "from sklearn.linear_model import LinearRegression\n",
        "import numpy as np\n",
        "\n",
        "# Загрузка данных из файла\n",
        "df = pd.read_csv('prevalence-of-depression-males-vs-females.csv')\n",
        "\n",
        "# Отобразить первые несколько строк\n",
        "df.head()"
      ],
      "metadata": {
        "id": "LsGnA0EnF1m4",
        "colab": {
          "base_uri": "https://localhost:8080/",
          "height": 241
        },
        "outputId": "92029915-b44a-4dfc-d421-60a90e7648dc"
      },
      "execution_count": 61,
      "outputs": [
        {
          "output_type": "execute_result",
          "data": {
            "text/plain": [
              "        Entity      Code  Year  \\\n",
              "0     Abkhazia  OWID_ABK  2015   \n",
              "1  Afghanistan       AFG  1990   \n",
              "2  Afghanistan       AFG  1991   \n",
              "3  Afghanistan       AFG  1992   \n",
              "4  Afghanistan       AFG  1993   \n",
              "\n",
              "   Prevalence - Depressive disorders - Sex: Male - Age: Age-standardized (Percent)  \\\n",
              "0                                                NaN                                 \n",
              "1                                           4.291054                                 \n",
              "2                                           4.293268                                 \n",
              "3                                           4.298265                                 \n",
              "4                                           4.303087                                 \n",
              "\n",
              "   Prevalence - Depressive disorders - Sex: Female - Age: Age-standardized (Percent)  \\\n",
              "0                                                NaN                                   \n",
              "1                                           5.859656                                   \n",
              "2                                           5.853078                                   \n",
              "3                                           5.850020                                   \n",
              "4                                           5.844987                                   \n",
              "\n",
              "   Population (historical estimates) Continent  \n",
              "0                                NaN      Asia  \n",
              "1                         12412311.0       NaN  \n",
              "2                         13299016.0       NaN  \n",
              "3                         14485543.0       NaN  \n",
              "4                         15816601.0       NaN  "
            ],
            "text/html": [
              "\n",
              "  <div id=\"df-cefc073f-ef0f-4a99-83b1-17c3e197ab29\" class=\"colab-df-container\">\n",
              "    <div>\n",
              "<style scoped>\n",
              "    .dataframe tbody tr th:only-of-type {\n",
              "        vertical-align: middle;\n",
              "    }\n",
              "\n",
              "    .dataframe tbody tr th {\n",
              "        vertical-align: top;\n",
              "    }\n",
              "\n",
              "    .dataframe thead th {\n",
              "        text-align: right;\n",
              "    }\n",
              "</style>\n",
              "<table border=\"1\" class=\"dataframe\">\n",
              "  <thead>\n",
              "    <tr style=\"text-align: right;\">\n",
              "      <th></th>\n",
              "      <th>Entity</th>\n",
              "      <th>Code</th>\n",
              "      <th>Year</th>\n",
              "      <th>Prevalence - Depressive disorders - Sex: Male - Age: Age-standardized (Percent)</th>\n",
              "      <th>Prevalence - Depressive disorders - Sex: Female - Age: Age-standardized (Percent)</th>\n",
              "      <th>Population (historical estimates)</th>\n",
              "      <th>Continent</th>\n",
              "    </tr>\n",
              "  </thead>\n",
              "  <tbody>\n",
              "    <tr>\n",
              "      <th>0</th>\n",
              "      <td>Abkhazia</td>\n",
              "      <td>OWID_ABK</td>\n",
              "      <td>2015</td>\n",
              "      <td>NaN</td>\n",
              "      <td>NaN</td>\n",
              "      <td>NaN</td>\n",
              "      <td>Asia</td>\n",
              "    </tr>\n",
              "    <tr>\n",
              "      <th>1</th>\n",
              "      <td>Afghanistan</td>\n",
              "      <td>AFG</td>\n",
              "      <td>1990</td>\n",
              "      <td>4.291054</td>\n",
              "      <td>5.859656</td>\n",
              "      <td>12412311.0</td>\n",
              "      <td>NaN</td>\n",
              "    </tr>\n",
              "    <tr>\n",
              "      <th>2</th>\n",
              "      <td>Afghanistan</td>\n",
              "      <td>AFG</td>\n",
              "      <td>1991</td>\n",
              "      <td>4.293268</td>\n",
              "      <td>5.853078</td>\n",
              "      <td>13299016.0</td>\n",
              "      <td>NaN</td>\n",
              "    </tr>\n",
              "    <tr>\n",
              "      <th>3</th>\n",
              "      <td>Afghanistan</td>\n",
              "      <td>AFG</td>\n",
              "      <td>1992</td>\n",
              "      <td>4.298265</td>\n",
              "      <td>5.850020</td>\n",
              "      <td>14485543.0</td>\n",
              "      <td>NaN</td>\n",
              "    </tr>\n",
              "    <tr>\n",
              "      <th>4</th>\n",
              "      <td>Afghanistan</td>\n",
              "      <td>AFG</td>\n",
              "      <td>1993</td>\n",
              "      <td>4.303087</td>\n",
              "      <td>5.844987</td>\n",
              "      <td>15816601.0</td>\n",
              "      <td>NaN</td>\n",
              "    </tr>\n",
              "  </tbody>\n",
              "</table>\n",
              "</div>\n",
              "    <div class=\"colab-df-buttons\">\n",
              "\n",
              "  <div class=\"colab-df-container\">\n",
              "    <button class=\"colab-df-convert\" onclick=\"convertToInteractive('df-cefc073f-ef0f-4a99-83b1-17c3e197ab29')\"\n",
              "            title=\"Convert this dataframe to an interactive table.\"\n",
              "            style=\"display:none;\">\n",
              "\n",
              "  <svg xmlns=\"http://www.w3.org/2000/svg\" height=\"24px\" viewBox=\"0 -960 960 960\">\n",
              "    <path d=\"M120-120v-720h720v720H120Zm60-500h600v-160H180v160Zm220 220h160v-160H400v160Zm0 220h160v-160H400v160ZM180-400h160v-160H180v160Zm440 0h160v-160H620v160ZM180-180h160v-160H180v160Zm440 0h160v-160H620v160Z\"/>\n",
              "  </svg>\n",
              "    </button>\n",
              "\n",
              "  <style>\n",
              "    .colab-df-container {\n",
              "      display:flex;\n",
              "      gap: 12px;\n",
              "    }\n",
              "\n",
              "    .colab-df-convert {\n",
              "      background-color: #E8F0FE;\n",
              "      border: none;\n",
              "      border-radius: 50%;\n",
              "      cursor: pointer;\n",
              "      display: none;\n",
              "      fill: #1967D2;\n",
              "      height: 32px;\n",
              "      padding: 0 0 0 0;\n",
              "      width: 32px;\n",
              "    }\n",
              "\n",
              "    .colab-df-convert:hover {\n",
              "      background-color: #E2EBFA;\n",
              "      box-shadow: 0px 1px 2px rgba(60, 64, 67, 0.3), 0px 1px 3px 1px rgba(60, 64, 67, 0.15);\n",
              "      fill: #174EA6;\n",
              "    }\n",
              "\n",
              "    .colab-df-buttons div {\n",
              "      margin-bottom: 4px;\n",
              "    }\n",
              "\n",
              "    [theme=dark] .colab-df-convert {\n",
              "      background-color: #3B4455;\n",
              "      fill: #D2E3FC;\n",
              "    }\n",
              "\n",
              "    [theme=dark] .colab-df-convert:hover {\n",
              "      background-color: #434B5C;\n",
              "      box-shadow: 0px 1px 3px 1px rgba(0, 0, 0, 0.15);\n",
              "      filter: drop-shadow(0px 1px 2px rgba(0, 0, 0, 0.3));\n",
              "      fill: #FFFFFF;\n",
              "    }\n",
              "  </style>\n",
              "\n",
              "    <script>\n",
              "      const buttonEl =\n",
              "        document.querySelector('#df-cefc073f-ef0f-4a99-83b1-17c3e197ab29 button.colab-df-convert');\n",
              "      buttonEl.style.display =\n",
              "        google.colab.kernel.accessAllowed ? 'block' : 'none';\n",
              "\n",
              "      async function convertToInteractive(key) {\n",
              "        const element = document.querySelector('#df-cefc073f-ef0f-4a99-83b1-17c3e197ab29');\n",
              "        const dataTable =\n",
              "          await google.colab.kernel.invokeFunction('convertToInteractive',\n",
              "                                                    [key], {});\n",
              "        if (!dataTable) return;\n",
              "\n",
              "        const docLinkHtml = 'Like what you see? Visit the ' +\n",
              "          '<a target=\"_blank\" href=https://colab.research.google.com/notebooks/data_table.ipynb>data table notebook</a>'\n",
              "          + ' to learn more about interactive tables.';\n",
              "        element.innerHTML = '';\n",
              "        dataTable['output_type'] = 'display_data';\n",
              "        await google.colab.output.renderOutput(dataTable, element);\n",
              "        const docLink = document.createElement('div');\n",
              "        docLink.innerHTML = docLinkHtml;\n",
              "        element.appendChild(docLink);\n",
              "      }\n",
              "    </script>\n",
              "  </div>\n",
              "\n",
              "\n",
              "<div id=\"df-d123ee7b-2da9-43fe-b926-f44392ce417a\">\n",
              "  <button class=\"colab-df-quickchart\" onclick=\"quickchart('df-d123ee7b-2da9-43fe-b926-f44392ce417a')\"\n",
              "            title=\"Suggest charts\"\n",
              "            style=\"display:none;\">\n",
              "\n",
              "<svg xmlns=\"http://www.w3.org/2000/svg\" height=\"24px\"viewBox=\"0 0 24 24\"\n",
              "     width=\"24px\">\n",
              "    <g>\n",
              "        <path d=\"M19 3H5c-1.1 0-2 .9-2 2v14c0 1.1.9 2 2 2h14c1.1 0 2-.9 2-2V5c0-1.1-.9-2-2-2zM9 17H7v-7h2v7zm4 0h-2V7h2v10zm4 0h-2v-4h2v4z\"/>\n",
              "    </g>\n",
              "</svg>\n",
              "  </button>\n",
              "\n",
              "<style>\n",
              "  .colab-df-quickchart {\n",
              "      --bg-color: #E8F0FE;\n",
              "      --fill-color: #1967D2;\n",
              "      --hover-bg-color: #E2EBFA;\n",
              "      --hover-fill-color: #174EA6;\n",
              "      --disabled-fill-color: #AAA;\n",
              "      --disabled-bg-color: #DDD;\n",
              "  }\n",
              "\n",
              "  [theme=dark] .colab-df-quickchart {\n",
              "      --bg-color: #3B4455;\n",
              "      --fill-color: #D2E3FC;\n",
              "      --hover-bg-color: #434B5C;\n",
              "      --hover-fill-color: #FFFFFF;\n",
              "      --disabled-bg-color: #3B4455;\n",
              "      --disabled-fill-color: #666;\n",
              "  }\n",
              "\n",
              "  .colab-df-quickchart {\n",
              "    background-color: var(--bg-color);\n",
              "    border: none;\n",
              "    border-radius: 50%;\n",
              "    cursor: pointer;\n",
              "    display: none;\n",
              "    fill: var(--fill-color);\n",
              "    height: 32px;\n",
              "    padding: 0;\n",
              "    width: 32px;\n",
              "  }\n",
              "\n",
              "  .colab-df-quickchart:hover {\n",
              "    background-color: var(--hover-bg-color);\n",
              "    box-shadow: 0 1px 2px rgba(60, 64, 67, 0.3), 0 1px 3px 1px rgba(60, 64, 67, 0.15);\n",
              "    fill: var(--button-hover-fill-color);\n",
              "  }\n",
              "\n",
              "  .colab-df-quickchart-complete:disabled,\n",
              "  .colab-df-quickchart-complete:disabled:hover {\n",
              "    background-color: var(--disabled-bg-color);\n",
              "    fill: var(--disabled-fill-color);\n",
              "    box-shadow: none;\n",
              "  }\n",
              "\n",
              "  .colab-df-spinner {\n",
              "    border: 2px solid var(--fill-color);\n",
              "    border-color: transparent;\n",
              "    border-bottom-color: var(--fill-color);\n",
              "    animation:\n",
              "      spin 1s steps(1) infinite;\n",
              "  }\n",
              "\n",
              "  @keyframes spin {\n",
              "    0% {\n",
              "      border-color: transparent;\n",
              "      border-bottom-color: var(--fill-color);\n",
              "      border-left-color: var(--fill-color);\n",
              "    }\n",
              "    20% {\n",
              "      border-color: transparent;\n",
              "      border-left-color: var(--fill-color);\n",
              "      border-top-color: var(--fill-color);\n",
              "    }\n",
              "    30% {\n",
              "      border-color: transparent;\n",
              "      border-left-color: var(--fill-color);\n",
              "      border-top-color: var(--fill-color);\n",
              "      border-right-color: var(--fill-color);\n",
              "    }\n",
              "    40% {\n",
              "      border-color: transparent;\n",
              "      border-right-color: var(--fill-color);\n",
              "      border-top-color: var(--fill-color);\n",
              "    }\n",
              "    60% {\n",
              "      border-color: transparent;\n",
              "      border-right-color: var(--fill-color);\n",
              "    }\n",
              "    80% {\n",
              "      border-color: transparent;\n",
              "      border-right-color: var(--fill-color);\n",
              "      border-bottom-color: var(--fill-color);\n",
              "    }\n",
              "    90% {\n",
              "      border-color: transparent;\n",
              "      border-bottom-color: var(--fill-color);\n",
              "    }\n",
              "  }\n",
              "</style>\n",
              "\n",
              "  <script>\n",
              "    async function quickchart(key) {\n",
              "      const quickchartButtonEl =\n",
              "        document.querySelector('#' + key + ' button');\n",
              "      quickchartButtonEl.disabled = true;  // To prevent multiple clicks.\n",
              "      quickchartButtonEl.classList.add('colab-df-spinner');\n",
              "      try {\n",
              "        const charts = await google.colab.kernel.invokeFunction(\n",
              "            'suggestCharts', [key], {});\n",
              "      } catch (error) {\n",
              "        console.error('Error during call to suggestCharts:', error);\n",
              "      }\n",
              "      quickchartButtonEl.classList.remove('colab-df-spinner');\n",
              "      quickchartButtonEl.classList.add('colab-df-quickchart-complete');\n",
              "    }\n",
              "    (() => {\n",
              "      let quickchartButtonEl =\n",
              "        document.querySelector('#df-d123ee7b-2da9-43fe-b926-f44392ce417a button');\n",
              "      quickchartButtonEl.style.display =\n",
              "        google.colab.kernel.accessAllowed ? 'block' : 'none';\n",
              "    })();\n",
              "  </script>\n",
              "</div>\n",
              "    </div>\n",
              "  </div>\n"
            ],
            "application/vnd.google.colaboratory.intrinsic+json": {
              "type": "dataframe",
              "variable_name": "df",
              "summary": "{\n  \"name\": \"df\",\n  \"rows\": 56395,\n  \"fields\": [\n    {\n      \"column\": \"Entity\",\n      \"properties\": {\n        \"dtype\": \"category\",\n        \"num_unique_values\": 316,\n        \"samples\": [\n          \"Montserrat\",\n          \"Bolivia\",\n          \"Mexico\"\n        ],\n        \"semantic_type\": \"\",\n        \"description\": \"\"\n      }\n    },\n    {\n      \"column\": \"Code\",\n      \"properties\": {\n        \"dtype\": \"category\",\n        \"num_unique_values\": 286,\n        \"samples\": [\n          \"ATA\",\n          \"URY\",\n          \"MWI\"\n        ],\n        \"semantic_type\": \"\",\n        \"description\": \"\"\n      }\n    },\n    {\n      \"column\": \"Year\",\n      \"properties\": {\n        \"dtype\": \"number\",\n        \"std\": 1408,\n        \"min\": -10000,\n        \"max\": 2021,\n        \"num_unique_values\": 259,\n        \"samples\": [\n          1790,\n          500,\n          1998\n        ],\n        \"semantic_type\": \"\",\n        \"description\": \"\"\n      }\n    },\n    {\n      \"column\": \"Prevalence - Depressive disorders - Sex: Male - Age: Age-standardized (Percent)\",\n      \"properties\": {\n        \"dtype\": \"number\",\n        \"std\": 0.80177003020725,\n        \"min\": 1.31356467453741,\n        \"max\": 7.25870365476972,\n        \"num_unique_values\": 6840,\n        \"samples\": [\n          4.47782738086233,\n          3.45330375846767,\n          4.4197185228765\n        ],\n        \"semantic_type\": \"\",\n        \"description\": \"\"\n      }\n    },\n    {\n      \"column\": \"Prevalence - Depressive disorders - Sex: Female - Age: Age-standardized (Percent)\",\n      \"properties\": {\n        \"dtype\": \"number\",\n        \"std\": 1.1114252429179303,\n        \"min\": 1.9629571347647896,\n        \"max\": 8.97715141376376,\n        \"num_unique_values\": 6840,\n        \"samples\": [\n          6.75183844808476,\n          4.89699914203785,\n          6.11385344255003\n        ],\n        \"semantic_type\": \"\",\n        \"description\": \"\"\n      }\n    },\n    {\n      \"column\": \"Population (historical estimates)\",\n      \"properties\": {\n        \"dtype\": \"number\",\n        \"std\": 250302771.62740695,\n        \"min\": 1.0,\n        \"max\": 7874965730.0,\n        \"num_unique_values\": 51142,\n        \"samples\": [\n          134850.0,\n          29351.0,\n          19111919.0\n        ],\n        \"semantic_type\": \"\",\n        \"description\": \"\"\n      }\n    },\n    {\n      \"column\": \"Continent\",\n      \"properties\": {\n        \"dtype\": \"category\",\n        \"num_unique_values\": 7,\n        \"samples\": [\n          \"Asia\",\n          \"Europe\",\n          \"Antarctica\"\n        ],\n        \"semantic_type\": \"\",\n        \"description\": \"\"\n      }\n    }\n  ]\n}"
            }
          },
          "metadata": {},
          "execution_count": 61
        }
      ]
    },
    {
      "cell_type": "markdown",
      "source": [
        "Entity: Название страны или региона.\n",
        "\n",
        "Code: Код страны или региона.\n",
        "\n",
        "Year: Год наблюдений.\n",
        "\n",
        "Prevalence - Depressive disorders - Sex: Male - Age: Age-standardized (Percent): Доля депрессивных расстройств у мужчин (в процентах), стандартизированная по возрасту.\n",
        "\n",
        "Prevalence - Depressive disorders - Sex: Female - Age: Age-standardized (Percent): Доля депрессивных расстройств у женщин (в процентах), стандартизированная по возрасту.\n",
        "\n",
        "Population (historical estimates): Оценки численности населения.\n",
        "\n",
        "Continent: Континент (очень неполные данные, так как многие значения отсутствуют)."
      ],
      "metadata": {
        "id": "4dkc-Wm1M4il"
      }
    },
    {
      "source": [
        "df.groupby('Continent').size().plot(kind='barh', color=sns.palettes.mpl_palette('Dark2'))\n",
        "plt.gca().spines[['top', 'right',]].set_visible(False)"
      ],
      "cell_type": "code",
      "execution_count": 62,
      "outputs": [
        {
          "output_type": "display_data",
          "data": {
            "text/plain": [
              "<Figure size 640x480 with 1 Axes>"
            ],
            "image/png": "[encoded data removed]"
          },
          "metadata": {}
        }
      ],
      "metadata": {
        "id": "RvusY9NOK94O",
        "colab": {
          "base_uri": "https://localhost:8080/",
          "height": 430
        },
        "outputId": "18523db6-00dd-4197-9caa-aa983fc390c0"
      }
    },
    {
      "cell_type": "code",
      "source": [
        "df['Continent'].value_counts()"
      ],
      "metadata": {
        "colab": {
          "base_uri": "https://localhost:8080/",
          "height": 335
        },
        "id": "K3wKs_yEXnys",
        "outputId": "87773763-0a7f-490e-da07-bcf8412b44d1"
      },
      "execution_count": 63,
      "outputs": [
        {
          "output_type": "execute_result",
          "data": {
            "text/plain": [
              "Continent\n",
              "Europe           75\n",
              "Asia             62\n",
              "Africa           61\n",
              "North America    42\n",
              "Oceania          26\n",
              "South America    15\n",
              "Antarctica        4\n",
              "Name: count, dtype: int64"
            ],
            "text/html": [
              "<div>\n",
              "<style scoped>\n",
              "    .dataframe tbody tr th:only-of-type {\n",
              "        vertical-align: middle;\n",
              "    }\n",
              "\n",
              "    .dataframe tbody tr th {\n",
              "        vertical-align: top;\n",
              "    }\n",
              "\n",
              "    .dataframe thead th {\n",
              "        text-align: right;\n",
              "    }\n",
              "</style>\n",
              "<table border=\"1\" class=\"dataframe\">\n",
              "  <thead>\n",
              "    <tr style=\"text-align: right;\">\n",
              "      <th></th>\n",
              "      <th>count</th>\n",
              "    </tr>\n",
              "    <tr>\n",
              "      <th>Continent</th>\n",
              "      <th></th>\n",
              "    </tr>\n",
              "  </thead>\n",
              "  <tbody>\n",
              "    <tr>\n",
              "      <th>Europe</th>\n",
              "      <td>75</td>\n",
              "    </tr>\n",
              "    <tr>\n",
              "      <th>Asia</th>\n",
              "      <td>62</td>\n",
              "    </tr>\n",
              "    <tr>\n",
              "      <th>Africa</th>\n",
              "      <td>61</td>\n",
              "    </tr>\n",
              "    <tr>\n",
              "      <th>North America</th>\n",
              "      <td>42</td>\n",
              "    </tr>\n",
              "    <tr>\n",
              "      <th>Oceania</th>\n",
              "      <td>26</td>\n",
              "    </tr>\n",
              "    <tr>\n",
              "      <th>South America</th>\n",
              "      <td>15</td>\n",
              "    </tr>\n",
              "    <tr>\n",
              "      <th>Antarctica</th>\n",
              "      <td>4</td>\n",
              "    </tr>\n",
              "  </tbody>\n",
              "</table>\n",
              "</div><br><label><b>dtype:</b> int64</label>"
            ]
          },
          "metadata": {},
          "execution_count": 63
        }
      ]
    },
    {
      "cell_type": "code",
      "source": [
        "# Шаг 1: Исключение нерелевантных строк (агрегированные регионы и группы)\n",
        "regions_to_exclude.extend([\n",
        "    'African Region (WHO)', 'Europe', 'European Region (WHO)', 'G20',\n",
        "    'North America (WB)', 'South Asia (WB)', 'South-East Asia Region (WHO)'\n",
        "])\n",
        "\n",
        "df = df[~df['Entity'].isin(regions_to_exclude)]\n",
        "country_to_continent.update({\n",
        "    'Afghanistan': 'Asia',\n",
        "    'Albania': 'Europe',\n",
        "    'Algeria': 'Africa',\n",
        "    'Andorra': 'Europe',\n",
        "    'Angola': 'Africa',\n",
        "    'Argentina': 'South America',\n",
        "    'Armenia': 'Asia',\n",
        "    'Australia': 'Oceania',\n",
        "    'Austria': 'Europe',\n",
        "    'Azerbaijan': 'Asia',\n",
        "    'Bahamas': 'North America',\n",
        "    'Bahrain': 'Asia',\n",
        "    'Bangladesh': 'Asia',\n",
        "    'Barbados': 'North America',\n",
        "    'Belarus': 'Europe',\n",
        "    'Belgium': 'Europe',\n",
        "    'Belize': 'North America',\n",
        "    'Benin': 'Africa',\n",
        "    'Bhutan': 'Asia',\n",
        "    'Bolivia': 'South America',\n",
        "    'Bosnia and Herzegovina': 'Europe',\n",
        "    'Botswana': 'Africa',\n",
        "    'Brazil': 'South America',\n",
        "    'Bulgaria': 'Europe',\n",
        "    'Burkina Faso': 'Africa',\n",
        "    'Burundi': 'Africa',\n",
        "    'Cambodia': 'Asia',\n",
        "    'Cameroon': 'Africa',\n",
        "    'Canada': 'North America',\n",
        "    'China': 'Asia',\n",
        "    'England': 'Europe',\n",
        "    'France': 'Europe',\n",
        "    'Germany': 'Europe',\n",
        "    'India': 'Asia',\n",
        "    'Italy': 'Europe',\n",
        "    'Netherlands Antilles': 'North America',\n",
        "    'Russia': 'Europe',\n",
        "    'Saint Barthlemy': 'North America',\n",
        "    'Saint Helena': 'Africa',\n",
        "    'Saint Martin (French part)': 'North America',\n",
        "    'Saint Pierre and Miquelon': 'North America',\n",
        "    'Sint Maarten (Dutch part)': 'North America',\n",
        "    'South Africa': 'Africa',\n",
        "    'Spain': 'Europe',\n",
        "    'Svalbard and Jan Mayen': 'Europe',\n",
        "    'Turks and Caicos Islands': 'North America',\n",
        "    'United Kingdom': 'Europe',\n",
        "    'United States': 'North America',\n",
        "    'Vatican': 'Europe',\n",
        "    'Wales': 'Europe',\n",
        "    'Wallis and Futuna': 'Oceania'\n",
        "})\n",
        "# Шаг 3: Заполнение пропусков снова\n",
        "df.loc[:, 'Continent'] = df['Continent'].fillna(df['Entity'].map(country_to_continent))\n",
        "\n",
        "# Шаг 4: Проверка оставшихся стран без континента\n",
        "missing_continents = df['Continent'].isnull().sum()\n",
        "print(f'Пропусков в столбце Continent после повторного заполнения: {missing_continents}')\n",
        "\n",
        "# Проверим страны, для которых континенты всё ещё не заполнены\n",
        "countries_without_continent = df[df['Continent'].isnull()]['Entity'].unique()\n",
        "print('Страны без континента после повторного заполнения:', countries_without_continent)"
      ],
      "metadata": {
        "colab": {
          "base_uri": "https://localhost:8080/"
        },
        "id": "Xl_cvnUdhTEc",
        "outputId": "b9a30399-f6bd-4671-e00e-941e56639d3c"
      },
      "execution_count": 64,
      "outputs": [
        {
          "output_type": "stream",
          "name": "stdout",
          "text": [
            "Пропусков в столбце Continent после повторного заполнения: 0\n",
            "Страны без континента после повторного заполнения: []\n"
          ]
        }
      ]
    },
    {
      "cell_type": "code",
      "source": [
        "# Преобразование нужных столбцов к числовому формату\n",
        "df['Prevalence - Depressive disorders - Sex: Male - Age: Age-standardized (Percent)'] = pd.to_numeric(df['Prevalence - Depressive disorders - Sex: Male - Age: Age-standardized (Percent)'], errors='coerce')\n",
        "df['Prevalence - Depressive disorders - Sex: Female - Age: Age-standardized (Percent)'] = pd.to_numeric(df['Prevalence - Depressive disorders - Sex: Female - Age: Age-standardized (Percent)'], errors='coerce')\n",
        "\n",
        "# Список стран для анализа\n",
        "countries = ['United States', 'Germany', 'India']  # Добавьте или измените список стран\n",
        "\n",
        "# Построение графиков для каждой страны\n",
        "for country in countries:\n",
        "    df_country = df[df['Entity'] == country]\n",
        "\n",
        "    # Рассчет средних значений по годам для мужчин и женщин\n",
        "    plt.plot(df_country['Year'], df_country['Prevalence - Depressive disorders - Sex: Male - Age: Age-standardized (Percent)'], label=f'{country} - Мужчины')\n",
        "    plt.plot(df_country['Year'], df_country['Prevalence - Depressive disorders - Sex: Female - Age: Age-standardized (Percent)'], label=f'{country} - Женщины')\n",
        "\n",
        "# Настройка графиков\n",
        "plt.title('Тренды депрессивных расстройств по странам')\n",
        "plt.xlabel('Год')\n",
        "plt.ylabel('Распространенность (%)')\n",
        "plt.legend()\n",
        "plt.show()\n"
      ],
      "metadata": {
        "colab": {
          "base_uri": "https://localhost:8080/",
          "height": 472
        },
        "id": "B92X9rDmdlma",
        "outputId": "5740ca7e-5e5d-47bd-d938-7bc538d846eb"
      },
      "execution_count": 65,
      "outputs": [
        {
          "output_type": "display_data",
          "data": {
            "text/plain": [
              "<Figure size 640x480 with 1 Axes>"
            ],
            "image/png": "[encoded data removed]"
          },
          "metadata": {}
        }
      ]
    },
    {
      "cell_type": "code",
      "source": [
        "df.info()"
      ],
      "metadata": {
        "id": "3RFo0OyCLGNX",
        "colab": {
          "base_uri": "https://localhost:8080/"
        },
        "outputId": "92f28079-fef8-4d95-aa44-b86e666196de"
      },
      "execution_count": 66,
      "outputs": [
        {
          "output_type": "stream",
          "name": "stdout",
          "text": [
            "<class 'pandas.core.frame.DataFrame'>\n",
            "Index: 54012 entries, 0 to 56394\n",
            "Data columns (total 7 columns):\n",
            " #   Column                                                                             Non-Null Count  Dtype  \n",
            "---  ------                                                                             --------------  -----  \n",
            " 0   Entity                                                                             54012 non-null  object \n",
            " 1   Code                                                                               53820 non-null  object \n",
            " 2   Year                                                                               54012 non-null  int64  \n",
            " 3   Prevalence - Depressive disorders - Sex: Male - Age: Age-standardized (Percent)    6240 non-null   float64\n",
            " 4   Prevalence - Depressive disorders - Sex: Female - Age: Age-standardized (Percent)  6240 non-null   float64\n",
            " 5   Population (historical estimates)                                                  53843 non-null  float64\n",
            " 6   Continent                                                                          54012 non-null  object \n",
            "dtypes: float64(3), int64(1), object(3)\n",
            "memory usage: 3.3+ MB\n"
          ]
        }
      ]
    },
    {
      "cell_type": "code",
      "source": [
        "df.isna().mean().sort_values(ascending=False)"
      ],
      "metadata": {
        "id": "H7zuHStPLO5e",
        "colab": {
          "base_uri": "https://localhost:8080/",
          "height": 303
        },
        "outputId": "23765b66-4e07-4f54-e7fe-9ebead54843c"
      },
      "execution_count": 67,
      "outputs": [
        {
          "output_type": "execute_result",
          "data": {
            "text/plain": [
              "Prevalence - Depressive disorders - Sex: Male - Age: Age-standardized (Percent)      0.884470\n",
              "Prevalence - Depressive disorders - Sex: Female - Age: Age-standardized (Percent)    0.884470\n",
              "Code                                                                                 0.003555\n",
              "Population (historical estimates)                                                    0.003129\n",
              "Entity                                                                               0.000000\n",
              "Year                                                                                 0.000000\n",
              "Continent                                                                            0.000000\n",
              "dtype: float64"
            ],
            "text/html": [
              "<div>\n",
              "<style scoped>\n",
              "    .dataframe tbody tr th:only-of-type {\n",
              "        vertical-align: middle;\n",
              "    }\n",
              "\n",
              "    .dataframe tbody tr th {\n",
              "        vertical-align: top;\n",
              "    }\n",
              "\n",
              "    .dataframe thead th {\n",
              "        text-align: right;\n",
              "    }\n",
              "</style>\n",
              "<table border=\"1\" class=\"dataframe\">\n",
              "  <thead>\n",
              "    <tr style=\"text-align: right;\">\n",
              "      <th></th>\n",
              "      <th>0</th>\n",
              "    </tr>\n",
              "  </thead>\n",
              "  <tbody>\n",
              "    <tr>\n",
              "      <th>Prevalence - Depressive disorders - Sex: Male - Age: Age-standardized (Percent)</th>\n",
              "      <td>0.884470</td>\n",
              "    </tr>\n",
              "    <tr>\n",
              "      <th>Prevalence - Depressive disorders - Sex: Female - Age: Age-standardized (Percent)</th>\n",
              "      <td>0.884470</td>\n",
              "    </tr>\n",
              "    <tr>\n",
              "      <th>Code</th>\n",
              "      <td>0.003555</td>\n",
              "    </tr>\n",
              "    <tr>\n",
              "      <th>Population (historical estimates)</th>\n",
              "      <td>0.003129</td>\n",
              "    </tr>\n",
              "    <tr>\n",
              "      <th>Entity</th>\n",
              "      <td>0.000000</td>\n",
              "    </tr>\n",
              "    <tr>\n",
              "      <th>Year</th>\n",
              "      <td>0.000000</td>\n",
              "    </tr>\n",
              "    <tr>\n",
              "      <th>Continent</th>\n",
              "      <td>0.000000</td>\n",
              "    </tr>\n",
              "  </tbody>\n",
              "</table>\n",
              "</div><br><label><b>dtype:</b> float64</label>"
            ]
          },
          "metadata": {},
          "execution_count": 67
        }
      ]
    },
    {
      "cell_type": "markdown",
      "source": [
        "# 1. Анализ гендерных различий депрессии по континентам"
      ],
      "metadata": {
        "id": "JnV2InMms2ei"
      }
    },
    {
      "cell_type": "markdown",
      "source": [
        "## США"
      ],
      "metadata": {
        "id": "EqQuiL9MNyvt"
      }
    },
    {
      "cell_type": "code",
      "source": [
        "# Убираем строки с отсутствующими значениями\n",
        "df_filtered = df.dropna(subset=[\n",
        "    'Prevalence - Depressive disorders - Sex: Male - Age: Age-standardized (Percent)',\n",
        "    'Prevalence - Depressive disorders - Sex: Female - Age: Age-standardized (Percent)'\n",
        "])\n",
        "\n",
        "# Фильтрация данных для континентов Северной и Южной Америки\n",
        "continents = ['North America', 'South America']\n",
        "df_americas = df_filtered[df_filtered['Continent'].isin(continents)]\n",
        "\n",
        "# Оставляем только нужные числовые столбцы\n",
        "df_americas_numeric = df_americas[['Year',\n",
        "                                   'Prevalence - Depressive disorders - Sex: Male - Age: Age-standardized (Percent)',\n",
        "                                   'Prevalence - Depressive disorders - Sex: Female - Age: Age-standardized (Percent)']]\n",
        "\n",
        "# Группировка по годам и расчет среднего значения по мужчинам и женщинам\n",
        "df_grouped = df_americas_numeric.groupby('Year').mean()\n",
        "\n",
        "# Построение графиков\n",
        "plt.plot(df_grouped.index, df_grouped['Prevalence - Depressive disorders - Sex: Male - Age: Age-standardized (Percent)'], label='Мужчины')\n",
        "plt.plot(df_grouped.index, df_grouped['Prevalence - Depressive disorders - Sex: Female - Age: Age-standardized (Percent)'], label='Женщины')\n",
        "plt.title('Распространенность депрессивных расстройств в Северной и Южной Америке')\n",
        "plt.xlabel('Год')\n",
        "plt.ylabel('Распространенность (%)')\n",
        "plt.legend()\n",
        "plt.show()\n"
      ],
      "metadata": {
        "id": "fZWBzYDjOoLf",
        "colab": {
          "base_uri": "https://localhost:8080/",
          "height": 472
        },
        "outputId": "015dc1d1-e8af-412b-d7f6-1c2644f99eb0"
      },
      "execution_count": 68,
      "outputs": [
        {
          "output_type": "display_data",
          "data": {
            "text/plain": [
              "<Figure size 640x480 with 1 Axes>"
            ],
            "image/png": "[encoded data removed]"
          },
          "metadata": {}
        }
      ]
    },
    {
      "cell_type": "code",
      "source": [
        "male_mean = df_americas['Prevalence - Depressive disorders - Sex: Male - Age: Age-standardized (Percent)'].mean()\n",
        "female_mean = df_americas['Prevalence - Depressive disorders - Sex: Female - Age: Age-standardized (Percent)'].mean()\n",
        "\n",
        "print(f\"Средняя распространенность депрессии у мужчин: {male_mean:.2f}%\")\n",
        "print(f\"Средняя распространенность депрессии у женщин: {female_mean:.2f}%\")"
      ],
      "metadata": {
        "colab": {
          "base_uri": "https://localhost:8080/"
        },
        "id": "BmufKfsMVKMU",
        "outputId": "992d3cde-eaaa-4121-b1ad-390da716690c"
      },
      "execution_count": 69,
      "outputs": [
        {
          "output_type": "stream",
          "name": "stdout",
          "text": [
            "Средняя распространенность депрессии у мужчин: 2.77%\n",
            "Средняя распространенность депрессии у женщин: 4.47%\n"
          ]
        }
      ]
    },
    {
      "cell_type": "code",
      "source": [
        "corr_male = df_americas['Population (historical estimates)'].corr(df_americas['Prevalence - Depressive disorders - Sex: Male - Age: Age-standardized (Percent)'])\n",
        "corr_female = df_americas['Population (historical estimates)'].corr(df_americas['Prevalence - Depressive disorders - Sex: Female - Age: Age-standardized (Percent)'])\n",
        "\n",
        "print(f\"Корреляция между численностью населения и депрессией у мужчин: {corr_male:.2f}\")\n",
        "print(f\"Корреляция между численностью населения и депрессией у женщин: {corr_female:.2f}\")"
      ],
      "metadata": {
        "colab": {
          "base_uri": "https://localhost:8080/"
        },
        "id": "zNubp7dkVN3I",
        "outputId": "5b740d2a-f185-4b52-94bf-886f671fee9a"
      },
      "execution_count": 70,
      "outputs": [
        {
          "output_type": "stream",
          "name": "stdout",
          "text": [
            "Корреляция между численностью населения и депрессией у мужчин: 0.14\n",
            "Корреляция между численностью населения и депрессией у женщин: 0.19\n"
          ]
        }
      ]
    },
    {
      "cell_type": "markdown",
      "source": [
        "Эти значения корреляции указывают на то, что факторы, влияющие на депрессивные расстройства, скорее всего, являются многофакторными и не зависят напрямую от численности населения."
      ],
      "metadata": {
        "id": "laB3Tm5UVXfv"
      }
    },
    {
      "cell_type": "code",
      "source": [
        "max_male_year = df_americas.loc[df_americas['Prevalence - Depressive disorders - Sex: Male - Age: Age-standardized (Percent)'].idxmax()]['Year']\n",
        "max_female_year = df_americas.loc[df_americas['Prevalence - Depressive disorders - Sex: Female - Age: Age-standardized (Percent)'].idxmax()]['Year']\n",
        "\n",
        "print(f\"Год с максимальной депрессией у мужчин: {max_male_year}\")\n",
        "print(f\"Год с максимальной депрессией у женщин: {max_female_year}\")"
      ],
      "metadata": {
        "colab": {
          "base_uri": "https://localhost:8080/"
        },
        "id": "IyXKbhRaVkEg",
        "outputId": "c05aaa77-0d35-4633-dc3a-8006ffa32621"
      },
      "execution_count": 71,
      "outputs": [
        {
          "output_type": "stream",
          "name": "stdout",
          "text": [
            "Год с максимальной депрессией у мужчин: 1995\n",
            "Год с максимальной депрессией у женщин: 1995\n"
          ]
        }
      ]
    },
    {
      "cell_type": "markdown",
      "source": [
        "## Европа"
      ],
      "metadata": {
        "id": "f6lQff5HV8Wg"
      }
    },
    {
      "cell_type": "code",
      "source": [
        "# Преобразование столбцов с распространенностью депрессии к числовому формату\n",
        "df['Prevalence - Depressive disorders - Sex: Male - Age: Age-standardized (Percent)'] = pd.to_numeric(df['Prevalence - Depressive disorders - Sex: Male - Age: Age-standardized (Percent)'], errors='coerce')\n",
        "df['Prevalence - Depressive disorders - Sex: Female - Age: Age-standardized (Percent)'] = pd.to_numeric(df['Prevalence - Depressive disorders - Sex: Female - Age: Age-standardized (Percent)'], errors='coerce')\n",
        "\n",
        "# Фильтрация данных для континента Европа\n",
        "df_europe = df_filtered[df_filtered['Continent'] == 'Europe']\n",
        "\n",
        "# Рассчет средних значений по годам только для числовых столбцов\n",
        "df_grouped_europe = df_europe.groupby('Year').mean(numeric_only=True)\n",
        "\n",
        "# Построение графиков\n",
        "plt.plot(df_grouped_europe.index, df_grouped_europe['Prevalence - Depressive disorders - Sex: Male - Age: Age-standardized (Percent)'], label='Мужчины')\n",
        "plt.plot(df_grouped_europe.index, df_grouped_europe['Prevalence - Depressive disorders - Sex: Female - Age: Age-standardized (Percent)'], label='Женщины')\n",
        "\n",
        "# Настройка графика\n",
        "plt.title('Тренды депрессии в Европе')\n",
        "plt.xlabel('Год')\n",
        "plt.ylabel('Распространенность (%)')\n",
        "plt.legend()\n",
        "plt.show()\n"
      ],
      "metadata": {
        "colab": {
          "base_uri": "https://localhost:8080/",
          "height": 472
        },
        "id": "F_ocMflDhAEV",
        "outputId": "1665764c-2a21-4be6-fa72-980f615f2f6c"
      },
      "execution_count": 72,
      "outputs": [
        {
          "output_type": "display_data",
          "data": {
            "text/plain": [
              "<Figure size 640x480 with 1 Axes>"
            ],
            "image/png": "[encoded data removed]"
          },
          "metadata": {}
        }
      ]
    },
    {
      "cell_type": "code",
      "source": [
        "# Рассчитаем средние показатели по мужчинам и женщинам\n",
        "mean_male_depression = df_europe['Prevalence - Depressive disorders - Sex: Male - Age: Age-standardized (Percent)'].mean()\n",
        "mean_female_depression = df_europe['Prevalence - Depressive disorders - Sex: Female - Age: Age-standardized (Percent)'].mean()\n",
        "\n",
        "# Разница в показателях\n",
        "difference = mean_female_depression - mean_male_depression\n",
        "\n",
        "# Вывод результатов\n",
        "mean_male_depression, mean_female_depression, difference"
      ],
      "metadata": {
        "colab": {
          "base_uri": "https://localhost:8080/"
        },
        "id": "h7hAzA9moRLi",
        "outputId": "be251af1-baf0-48e3-8055-42d99718d005"
      },
      "execution_count": 73,
      "outputs": [
        {
          "output_type": "execute_result",
          "data": {
            "text/plain": [
              "(3.0284155287617733, 4.677027148237827, 1.6486116194760538)"
            ]
          },
          "metadata": {},
          "execution_count": 73
        }
      ]
    },
    {
      "cell_type": "markdown",
      "source": [
        "Средняя распространенность депрессивных расстройств среди мужчин: 3.03%\n",
        "Средняя распространенность депрессивных расстройств среди женщин: 4.68%\n",
        "Разница в показателях: 1.65%\n",
        "\n",
        "Эти результаты показывают, что в Европе женщины в среднем более склонны к депрессивным расстройствам, чем мужчины."
      ],
      "metadata": {
        "id": "rehPy23koiWN"
      }
    },
    {
      "cell_type": "markdown",
      "source": [
        "## Африка"
      ],
      "metadata": {
        "id": "VLvTy-Gvp6mP"
      }
    },
    {
      "cell_type": "code",
      "source": [
        "# Убираем строки с отсутствующими значениями\n",
        "df_filtered = df.dropna(subset=[\n",
        "    'Prevalence - Depressive disorders - Sex: Male - Age: Age-standardized (Percent)',\n",
        "    'Prevalence - Depressive disorders - Sex: Female - Age: Age-standardized (Percent)'\n",
        "])\n",
        "\n",
        "# Фильтрация данных для Африки\n",
        "africa_data = df_filtered[df_filtered['Continent'] == 'Africa']\n",
        "\n",
        "# Рассчитаем средние показатели по мужчинам и женщинам для Африки\n",
        "mean_male_depression_africa = africa_data['Prevalence - Depressive disorders - Sex: Male - Age: Age-standardized (Percent)'].mean()\n",
        "mean_female_depression_africa = africa_data['Prevalence - Depressive disorders - Sex: Female - Age: Age-standardized (Percent)'].mean()\n",
        "\n",
        "# Найдем годы с максимальной распространенностью депрессии для мужчин и женщин\n",
        "max_male_year_africa = africa_data.loc[africa_data['Prevalence - Depressive disorders - Sex: Male - Age: Age-standardized (Percent)'].idxmax()]['Year']\n",
        "max_female_year_africa = africa_data.loc[africa_data['Prevalence - Depressive disorders - Sex: Female - Age: Age-standardized (Percent)'].idxmax()]['Year']\n",
        "\n",
        "# Корреляция между численностью населения и депрессией для мужчин и женщин\n",
        "correlation_male_africa = africa_data['Prevalence - Depressive disorders - Sex: Male - Age: Age-standardized (Percent)'].corr(africa_data['Population (historical estimates)'])\n",
        "correlation_female_africa = africa_data['Prevalence - Depressive disorders - Sex: Female - Age: Age-standardized (Percent)'].corr(africa_data['Population (historical estimates)'])\n",
        "\n",
        "# Вывод результатов\n",
        "print(f\"Средняя распространенность депрессии у мужчин в Африке: {mean_male_depression_africa:.2f}%\")\n",
        "print(f\"Средняя распространенность депрессии у женщин в Африке: {mean_female_depression_africa:.2f}%\")\n",
        "print(f\"Год с максимальной депрессией у мужчин: {max_male_year_africa}\")\n",
        "print(f\"Год с максимальной депрессией у женщин: {max_female_year_africa}\")\n",
        "print(f\"Корреляция между численностью населения и депрессией у мужчин: {correlation_male_africa:.2f}\")\n",
        "print(f\"Корреляция между численностью населения и депрессией у женщин: {correlation_female_africa:.2f}\")\n"
      ],
      "metadata": {
        "colab": {
          "base_uri": "https://localhost:8080/"
        },
        "id": "7EPFO1oyqEWX",
        "outputId": "2e332207-5a51-4efa-c595-9ae531365bf8"
      },
      "execution_count": 74,
      "outputs": [
        {
          "output_type": "stream",
          "name": "stdout",
          "text": [
            "Средняя распространенность депрессии у мужчин в Африке: 3.82%\n",
            "Средняя распространенность депрессии у женщин в Африке: 5.55%\n",
            "Год с максимальной депрессией у мужчин: 2000\n",
            "Год с максимальной депрессией у женщин: 2000\n",
            "Корреляция между численностью населения и депрессией у мужчин: 0.01\n",
            "Корреляция между численностью населения и депрессией у женщин: -0.03\n"
          ]
        }
      ]
    },
    {
      "cell_type": "markdown",
      "source": [
        "Результаты исследования по Африке показали следующие ключевые выводы:\n",
        "\n",
        "Средняя распространенность депрессии среди мужчин: 3.82%\n",
        "\n",
        "Средняя распространенность депрессии среди женщин: 5.55%\n",
        "\n",
        "Это подтверждает тенденцию, что женщины в Африке чаще сталкиваются с депрессивными расстройствами, чем мужчины.\n",
        "\n",
        "Год с максимальной депрессией у мужчин и женщин: 2000 год. В этот год наблюдались наибольшие показатели распространенности депрессии как среди мужчин, так и среди женщин.\n",
        "\n",
        "Корреляция между численностью населения и депрессией у мужчин: 0.01\n",
        "\n",
        "Корреляция между численностью населения и депрессией у женщин: -0.03\n",
        "\n",
        "Корреляции практически отсутствуют (очень низкие значения), что говорит о том, что в Африке распространенность депрессивных расстройств слабо связана с численностью населения. Это свидетельствует о том, что депрессия в этом регионе может быть больше обусловлена другими социальными, экономическими или культурными факторами, а не численностью населения."
      ],
      "metadata": {
        "id": "Tuvta9e7qRRT"
      }
    },
    {
      "cell_type": "markdown",
      "source": [
        "## Азия"
      ],
      "metadata": {
        "id": "MRMJ4nhdqUml"
      }
    },
    {
      "cell_type": "code",
      "source": [
        "# Убираем строки с отсутствующими значениями\n",
        "df_filtered = df.dropna(subset=[\n",
        "    'Prevalence - Depressive disorders - Sex: Male - Age: Age-standardized (Percent)',\n",
        "    'Prevalence - Depressive disorders - Sex: Female - Age: Age-standardized (Percent)'\n",
        "])\n",
        "\n",
        "# Фильтрация данных для Азии\n",
        "asia_data = df_filtered[df_filtered['Continent'] == 'Asia']\n",
        "\n",
        "# Рассчитаем средние показатели по мужчинам и женщинам для Азии\n",
        "mean_male_depression_asia = asia_data['Prevalence - Depressive disorders - Sex: Male - Age: Age-standardized (Percent)'].mean()\n",
        "mean_female_depression_asia = asia_data['Prevalence - Depressive disorders - Sex: Female - Age: Age-standardized (Percent)'].mean()\n",
        "\n",
        "# Найдем годы с максимальной распространенностью депрессии для мужчин и женщин\n",
        "max_male_year_asia = asia_data.loc[asia_data['Prevalence - Depressive disorders - Sex: Male - Age: Age-standardized (Percent)'].idxmax()]['Year']\n",
        "max_female_year_asia = asia_data.loc[asia_data['Prevalence - Depressive disorders - Sex: Female - Age: Age-standardized (Percent)'].idxmax()]['Year']\n",
        "\n",
        "# Корреляция между численностью населения и депрессией для мужчин и женщин\n",
        "correlation_male_asia = asia_data['Prevalence - Depressive disorders - Sex: Male - Age: Age-standardized (Percent)'].corr(asia_data['Population (historical estimates)'])\n",
        "correlation_female_asia = asia_data['Prevalence - Depressive disorders - Sex: Female - Age: Age-standardized (Percent)'].corr(asia_data['Population (historical estimates)'])\n",
        "\n",
        "# Вывод результатов\n",
        "print(f\"Средняя распространенность депрессии у мужчин в Азии: {mean_male_depression_asia:.2f}%\")\n",
        "print(f\"Средняя распространенность депрессии у женщин в Азии: {mean_female_depression_asia:.2f}%\")\n",
        "print(f\"Год с максимальной депрессией у мужчин: {max_male_year_asia}\")\n",
        "print(f\"Год с максимальной депрессией у женщин: {max_female_year_asia}\")\n",
        "print(f\"Корреляция между численностью населения и депрессией у мужчин: {correlation_male_asia:.2f}\")\n",
        "print(f\"Корреляция между численностью населения и депрессией у женщин: {correlation_female_asia:.2f}\")\n"
      ],
      "metadata": {
        "colab": {
          "base_uri": "https://localhost:8080/"
        },
        "id": "esDdWTbzqXfM",
        "outputId": "22810b92-065d-4c23-c076-35db22f89657"
      },
      "execution_count": 75,
      "outputs": [
        {
          "output_type": "stream",
          "name": "stdout",
          "text": [
            "Средняя распространенность депрессии у мужчин в Азии: 3.01%\n",
            "Средняя распространенность депрессии у женщин в Азии: 4.38%\n",
            "Год с максимальной депрессией у мужчин: 2010\n",
            "Год с максимальной депрессией у женщин: 2001\n",
            "Корреляция между численностью населения и депрессией у мужчин: -0.07\n",
            "Корреляция между численностью населения и депрессией у женщин: -0.05\n"
          ]
        }
      ]
    },
    {
      "cell_type": "markdown",
      "source": [
        "Исследование по Азии показало следующие ключевые результаты:\n",
        "\n",
        "Средняя распространенность депрессии среди мужчин: 3.01%\n",
        "Средняя распространенность депрессии среди женщин: 4.38%\n",
        "Это демонстрирует, что женщины в Азии в среднем более подвержены депрессивным расстройствам по сравнению с мужчинами, что соответствует глобальным тенденциям.\n",
        "\n",
        "Год с максимальной депрессией у мужчин: 2010 год\n",
        "Год с максимальной депрессией у женщин: 2001 год\n",
        "Это указывает на различные временные пики распространенности депрессии у мужчин и женщин в Азии.\n",
        "\n",
        "Корреляция между численностью населения и депрессией у мужчин: -0.07\n",
        "Корреляция между численностью населения и депрессией у женщин: -0.05\n",
        "Корреляционные коэффициенты показывают слабую отрицательную связь между численностью населения и распространенностью депрессии в Азии. Это означает, что увеличение численности населения незначительно связано с уменьшением показателей депрессии, однако эта связь очень слабая и практически незначимая."
      ],
      "metadata": {
        "id": "oRlsW3h6q1Ww"
      }
    },
    {
      "cell_type": "markdown",
      "source": [
        "## Океания"
      ],
      "metadata": {
        "id": "Le3MqHMqq2DL"
      }
    },
    {
      "cell_type": "code",
      "source": [
        "import pandas as pd\n",
        "import matplotlib.pyplot as plt\n",
        "\n",
        "# Убираем строки с отсутствующими значениями\n",
        "df_filtered = df.dropna(subset=[\n",
        "    'Prevalence - Depressive disorders - Sex: Male - Age: Age-standardized (Percent)',\n",
        "    'Prevalence - Depressive disorders - Sex: Female - Age: Age-standardized (Percent)'\n",
        "])\n",
        "\n",
        "# Фильтрация данных для Океании\n",
        "oceania_data = df_filtered[df_filtered['Continent'] == 'Oceania']\n",
        "\n",
        "# Рассчитаем средние показатели по мужчинам и женщинам для Океании\n",
        "mean_male_depression_oceania = oceania_data['Prevalence - Depressive disorders - Sex: Male - Age: Age-standardized (Percent)'].mean()\n",
        "mean_female_depression_oceania = oceania_data['Prevalence - Depressive disorders - Sex: Female - Age: Age-standardized (Percent)'].mean()\n",
        "\n",
        "# Найдем годы с максимальной распространенностью депрессии для мужчин и женщин\n",
        "max_male_year_oceania = oceania_data.loc[oceania_data['Prevalence - Depressive disorders - Sex: Male - Age: Age-standardized (Percent)'].idxmax()]['Year']\n",
        "max_female_year_oceania = oceania_data.loc[oceania_data['Prevalence - Depressive disorders - Sex: Female - Age: Age-standardized (Percent)'].idxmax()]['Year']\n",
        "\n",
        "# Корреляция между численностью населения и депрессией для мужчин и женщин\n",
        "correlation_male_oceania = oceania_data['Prevalence - Depressive disorders - Sex: Male - Age: Age-standardized (Percent)'].corr(oceania_data['Population (historical estimates)'])\n",
        "correlation_female_oceania = oceania_data['Prevalence - Depressive disorders - Sex: Female - Age: Age-standardized (Percent)'].corr(oceania_data['Population (historical estimates)'])\n",
        "\n",
        "# Вывод результатов\n",
        "print(f\"Средняя распространенность депрессии у мужчин в Океании: {mean_male_depression_oceania:.2f}%\")\n",
        "print(f\"Средняя распространенность депрессии у женщин в Океании: {mean_female_depression_oceania:.2f}%\")\n",
        "print(f\"Год с максимальной депрессией у мужчин: {max_male_year_oceania}\")\n",
        "print(f\"Год с максимальной депрессией у женщин: {max_female_year_oceania}\")\n",
        "print(f\"Корреляция между численностью населения и депрессией у мужчин: {correlation_male_oceania:.2f}\")\n",
        "print(f\"Корреляция между численностью населения и депрессией у женщин: {correlation_female_oceania:.2f}\")\n"
      ],
      "metadata": {
        "colab": {
          "base_uri": "https://localhost:8080/"
        },
        "id": "Jl6p5vSUojaE",
        "outputId": "9135cfae-f43a-49fc-b399-ad133dc0da80"
      },
      "execution_count": 76,
      "outputs": [
        {
          "output_type": "stream",
          "name": "stdout",
          "text": [
            "Средняя распространенность депрессии у мужчин в Океании: 2.77%\n",
            "Средняя распространенность депрессии у женщин в Океании: 3.72%\n",
            "Год с максимальной депрессией у мужчин: 2005\n",
            "Год с максимальной депрессией у женщин: 2005\n",
            "Корреляция между численностью населения и депрессией у мужчин: 0.82\n",
            "Корреляция между численностью населения и депрессией у женщин: 0.86\n"
          ]
        }
      ]
    },
    {
      "cell_type": "markdown",
      "source": [
        "Исследование по Океании показало следующие ключевые результаты:\n",
        "\n",
        "Средняя распространенность депрессии среди мужчин: 2.77%\n",
        "Средняя распространенность депрессии среди женщин: 3.72%\n",
        "Как и в других регионах, женщины в среднем чаще подвержены депрессивным расстройствам, чем мужчины.\n",
        "\n",
        "Год с максимальной депрессией у мужчин и женщин: 2005 год. Это год, когда и у мужчин, и у женщин наблюдалась максимальная распространенность депрессии.\n",
        "\n",
        "Корреляция между численностью населения и депрессией у мужчин: 0.82\n",
        "\n",
        "Корреляция между численностью населения и депрессией у женщин: 0.86\n",
        "\n",
        "Эти значения корреляции довольно высокие, что указывает на значительную положительную связь между численностью населения и распространенностью депрессии в Океании. Это может означать, что в более населенных странах региона депрессия встречается чаще. Вероятно, эта связь обусловлена специфическими социальными, экономическими или культурными факторами, присущими регионам Океании."
      ],
      "metadata": {
        "id": "aT5ZK2brrYFu"
      }
    },
    {
      "cell_type": "markdown",
      "source": [
        "# 2. Тренд распространенности депрессии по годам"
      ],
      "metadata": {
        "id": "aCt8WerSr7EH"
      }
    },
    {
      "cell_type": "code",
      "source": [
        "import matplotlib.pyplot as plt\n",
        "from sklearn.linear_model import LinearRegression\n",
        "\n",
        "# Убираем строки с отсутствующими значениями и оставляем только числовые данные для группировки\n",
        "df_numeric = df_filtered[['Year',\n",
        "                          'Prevalence - Depressive disorders - Sex: Male - Age: Age-standardized (Percent)',\n",
        "                          'Prevalence - Depressive disorders - Sex: Female - Age: Age-standardized (Percent)']]\n",
        "\n",
        "# Группировка данных по годам и расчет среднего\n",
        "yearly_data = df_numeric.groupby('Year').mean()\n",
        "\n",
        "# Подготовка данных для линейной регрессии\n",
        "X = yearly_data.index.values.reshape(-1, 1)\n",
        "y_male = yearly_data['Prevalence - Depressive disorders - Sex: Male - Age: Age-standardized (Percent)']\n",
        "y_female = yearly_data['Prevalence - Depressive disorders - Sex: Female - Age: Age-standardized (Percent)']\n",
        "\n",
        "# Линейная регрессия\n",
        "reg_male = LinearRegression().fit(X, y_male)\n",
        "reg_female = LinearRegression().fit(X, y_female)\n",
        "\n",
        "# Построение графика\n",
        "plt.figure(figsize=(10, 6))\n",
        "plt.plot(X, y_male, label='Депрессия у мужчин')\n",
        "plt.plot(X, reg_male.predict(X), label='Тренд для мужчин', linestyle='--')\n",
        "plt.plot(X, y_female, label='Депрессия у женщин')\n",
        "plt.plot(X, reg_female.predict(X), label='Тренд для женщин', linestyle='--')\n",
        "plt.title('Тренды депрессии по годам')\n",
        "plt.xlabel('Год')\n",
        "plt.ylabel('Распространенность (%)')\n",
        "plt.legend()\n",
        "plt.show()\n"
      ],
      "metadata": {
        "colab": {
          "base_uri": "https://localhost:8080/",
          "height": 564
        },
        "id": "GoIvR-TjrYcP",
        "outputId": "503c286d-652b-48e9-e541-bf5738904091"
      },
      "execution_count": 77,
      "outputs": [
        {
          "output_type": "display_data",
          "data": {
            "text/plain": [
              "<Figure size 1000x600 with 1 Axes>"
            ],
            "image/png": "[encoded data removed]"
          },
          "metadata": {}
        }
      ]
    },
    {
      "cell_type": "markdown",
      "source": [
        "Вывод на основе данных о распространенности депрессивных расстройств среди мужчин и женщин за период с 1990 по 2019 год:\n",
        "\n",
        "Тенденция к снижению: За указанный период оба показателя распространенности депрессии (как среди мужчин, так и среди женщин) показывают тенденцию к постепенному снижению. Особенно это заметно после 2005 года. У женщин снижение более выраженное.\n",
        "\n",
        "Различие между мужчинами и женщинами: В каждый год показатель депрессии среди женщин значительно выше, чем среди мужчин. В среднем разница между уровнями депрессии у мужчин и женщин составляет около 1.5%. Это подтверждает уже известную тенденцию, что женщины более подвержены депрессии.\n",
        "\n",
        "Пик в середине 1990-х годов: Максимальные значения депрессии наблюдаются в 1990-х годах. У женщин пик приходится на период 1995-1999 годов, а у мужчин на 1996-1998 годы. После этого наблюдается постепенное снижение.\n",
        "\n",
        "Стабилизация показателей: После 2010 года темп снижения становится менее выраженным. К 2015-2019 годам показатели стабилизируются и практически не меняются.\n",
        "\n",
        "Заключение: В целом, за почти 30 лет наблюдается уменьшение распространенности депрессивных расстройств как среди мужчин, так и среди женщин, с более резким снижением у женщин после 2005 года. Различие между полами остается стабильным на протяжении всего периода."
      ],
      "metadata": {
        "id": "UpyFn_lct1kp"
      }
    },
    {
      "cell_type": "markdown",
      "source": [
        "# Сравнение разных континентов"
      ],
      "metadata": {
        "id": "xdQkHUS0sCIi"
      }
    },
    {
      "cell_type": "code",
      "source": [
        "import scipy.stats as stats\n",
        "\n",
        "# Группировка данных по континентам\n",
        "continent_groups_male = [df_filtered[df_filtered['Continent'] == c]['Prevalence - Depressive disorders - Sex: Male - Age: Age-standardized (Percent)'] for c in df_filtered['Continent'].unique()]\n",
        "continent_groups_female = [df_filtered[df_filtered['Continent'] == c]['Prevalence - Depressive disorders - Sex: Female - Age: Age-standardized (Percent)'] for c in df_filtered['Continent'].unique()]\n",
        "\n",
        "# ANOVA тест\n",
        "f_stat_male, p_val_male = stats.f_oneway(*continent_groups_male)\n",
        "f_stat_female, p_val_female = stats.f_oneway(*continent_groups_female)\n",
        "\n",
        "print(f\"ANOVA Male Depression: F-stat={f_stat_male}, p-value={p_val_male}\")\n",
        "print(f\"ANOVA Female Depression: F-stat={f_stat_female}, p-value={p_val_female}\")\n"
      ],
      "metadata": {
        "colab": {
          "base_uri": "https://localhost:8080/"
        },
        "id": "uraGdYGZsGZF",
        "outputId": "137f545b-0f38-4175-d355-c854f4032a90"
      },
      "execution_count": 78,
      "outputs": [
        {
          "output_type": "stream",
          "name": "stdout",
          "text": [
            "ANOVA Male Depression: F-stat=399.28526960524306, p-value=0.0\n",
            "ANOVA Female Depression: F-stat=390.8305035848673, p-value=0.0\n"
          ]
        }
      ]
    },
    {
      "cell_type": "markdown",
      "source": [
        "ANOVA для мужчин:\n",
        "\n",
        "F-статистика: 399.29\n",
        "P-значение: 0.0\n",
        "Это указывает на значимые различия в уровне депрессии среди мужчин между континентами. P-значение равно 0.0, что означает, что вероятность случайного возникновения таких различий крайне мала (меньше 0.05). Таким образом, можно сделать вывод, что уровень депрессии среди мужчин отличается в зависимости от континента.\n",
        "\n",
        "ANOVA для женщин:\n",
        "\n",
        "F-статистика: 390.83\n",
        "P-значение: 0.0\n",
        "Аналогично мужчинам, распространенность депрессии среди женщин также значительно варьируется между континентами. P-значение 0.0 говорит о том, что различия между континентами статистически значимы.\n",
        "\n",
        "Вывод:\n",
        "Тест ANOVA показал, что распространенность депрессивных расстройств как среди мужчин, так и среди женщин существенно отличается на разных континентах. Это указывает на возможное влияние региональных факторов (экономические, культурные, социальные), которые могут способствовать этим различиям."
      ],
      "metadata": {
        "id": "yMta05kcuJX0"
      }
    },
    {
      "cell_type": "markdown",
      "source": [
        "# Исследование факторов, влияющих на депрессию"
      ],
      "metadata": {
        "id": "gihBktAnsFm4"
      }
    },
    {
      "cell_type": "code",
      "source": [
        "import statsmodels.api as sm\n",
        "\n",
        "# Убираем строки с пропущенными значениями\n",
        "df_clean = df_filtered[['Population (historical estimates)',\n",
        "                        'Prevalence - Depressive disorders - Sex: Male - Age: Age-standardized (Percent)',\n",
        "                        'Prevalence - Depressive disorders - Sex: Female - Age: Age-standardized (Percent)']].dropna()\n",
        "\n",
        "# Модели для мужчин и женщин\n",
        "X = df_clean[['Population (historical estimates)']]\n",
        "y_male = df_clean['Prevalence - Depressive disorders - Sex: Male - Age: Age-standardized (Percent)']\n",
        "y_female = df_clean['Prevalence - Depressive disorders - Sex: Female - Age: Age-standardized (Percent)']\n",
        "\n",
        "# Добавляем константу для регрессии\n",
        "X = sm.add_constant(X)\n",
        "\n",
        "# Множественная регрессия для мужчин\n",
        "model_male = sm.OLS(y_male, X).fit()\n",
        "\n",
        "# Множественная регрессия для женщин\n",
        "model_female = sm.OLS(y_female, X).fit()\n",
        "\n",
        "# Результаты\n",
        "print(model_male.summary())\n",
        "print(model_female.summary())\n"
      ],
      "metadata": {
        "colab": {
          "base_uri": "https://localhost:8080/"
        },
        "id": "W71vNRyqsNM5",
        "outputId": "2ba084c9-c97c-498d-fb41-e442582e0630"
      },
      "execution_count": 79,
      "outputs": [
        {
          "output_type": "stream",
          "name": "stdout",
          "text": [
            "                                                           OLS Regression Results                                                          \n",
            "===========================================================================================================================================\n",
            "Dep. Variable:     Prevalence - Depressive disorders - Sex: Male - Age: Age-standardized (Percent)   R-squared:                       0.002\n",
            "Model:                                                                                         OLS   Adj. R-squared:                  0.001\n",
            "Method:                                                                              Least Squares   F-statistic:                     10.12\n",
            "Date:                                                                             Mon, 07 Oct 2024   Prob (F-statistic):            0.00147\n",
            "Time:                                                                                     12:08:32   Log-Likelihood:                -7525.4\n",
            "No. Observations:                                                                             6120   AIC:                         1.505e+04\n",
            "Df Residuals:                                                                                 6118   BIC:                         1.507e+04\n",
            "Df Model:                                                                                        1                                         \n",
            "Covariance Type:                                                                         nonrobust                                         \n",
            "=====================================================================================================\n",
            "                                        coef    std err          t      P>|t|      [0.025      0.975]\n",
            "-----------------------------------------------------------------------------------------------------\n",
            "const                                 3.1512      0.011    288.737      0.000       3.130       3.173\n",
            "Population (historical estimates) -2.673e-10    8.4e-11     -3.182      0.001   -4.32e-10   -1.03e-10\n",
            "==============================================================================\n",
            "Omnibus:                      879.767   Durbin-Watson:                   0.059\n",
            "Prob(Omnibus):                  0.000   Jarque-Bera (JB):             1628.008\n",
            "Skew:                           0.917   Prob(JB):                         0.00\n",
            "Kurtosis:                       4.739   Cond. No.                     1.34e+08\n",
            "==============================================================================\n",
            "\n",
            "Notes:\n",
            "[1] Standard Errors assume that the covariance matrix of the errors is correctly specified.\n",
            "[2] The condition number is large, 1.34e+08. This might indicate that there are\n",
            "strong multicollinearity or other numerical problems.\n",
            "                                                            OLS Regression Results                                                           \n",
            "=============================================================================================================================================\n",
            "Dep. Variable:     Prevalence - Depressive disorders - Sex: Female - Age: Age-standardized (Percent)   R-squared:                       0.001\n",
            "Model:                                                                                           OLS   Adj. R-squared:                  0.001\n",
            "Method:                                                                                Least Squares   F-statistic:                     7.495\n",
            "Date:                                                                               Mon, 07 Oct 2024   Prob (F-statistic):            0.00621\n",
            "Time:                                                                                       12:08:32   Log-Likelihood:                -9555.4\n",
            "No. Observations:                                                                               6120   AIC:                         1.911e+04\n",
            "Df Residuals:                                                                                   6118   BIC:                         1.913e+04\n",
            "Df Model:                                                                                          1                                         \n",
            "Covariance Type:                                                                           nonrobust                                         \n",
            "=====================================================================================================\n",
            "                                        coef    std err          t      P>|t|      [0.025      0.975]\n",
            "-----------------------------------------------------------------------------------------------------\n",
            "const                                 4.7058      0.015    309.460      0.000       4.676       4.736\n",
            "Population (historical estimates) -3.205e-10   1.17e-10     -2.738      0.006    -5.5e-10    -9.1e-11\n",
            "==============================================================================\n",
            "Omnibus:                      252.307   Durbin-Watson:                   0.059\n",
            "Prob(Omnibus):                  0.000   Jarque-Bera (JB):              286.534\n",
            "Skew:                           0.499   Prob(JB):                     6.03e-63\n",
            "Kurtosis:                       3.357   Cond. No.                     1.34e+08\n",
            "==============================================================================\n",
            "\n",
            "Notes:\n",
            "[1] Standard Errors assume that the covariance matrix of the errors is correctly specified.\n",
            "[2] The condition number is large, 1.34e+08. This might indicate that there are\n",
            "strong multicollinearity or other numerical problems.\n"
          ]
        }
      ]
    },
    {
      "cell_type": "markdown",
      "source": [
        "Для мужчин:\n",
        "\n",
        "Константа (const): 3.1512 — это средняя распространенность депрессивных расстройств среди мужчин, если учитывать влияние численности населения.\n",
        "Коэффициент для численности населения: -2.673e-10 — показывает слабую отрицательную связь между численностью населения и распространенностью депрессии среди мужчин. Это означает, что с увеличением численности населения депрессия немного уменьшается, но влияние этого фактора очень незначительное.\n",
        "R-квадрат: 0.002 — модель объясняет всего лишь 0.2% вариации в данных, что говорит о том, что численность населения практически не объясняет изменения в уровне депрессии среди мужчин.\n",
        "P-значение (Prob (F-statistic)): 0.00147 — это значение меньше 0.05, что указывает на статистическую значимость, хотя эффект очень слабый.\n",
        "Для женщин:\n",
        "\n",
        "Константа (const): 4.7058 — это средняя распространенность депрессии среди женщин при учете влияния численности населения.\n",
        "Коэффициент для численности населения: -3.205e-10 — также показывает слабую отрицательную связь между численностью населения и депрессией среди женщин, но эффект даже слабее, чем у мужчин.\n",
        "R-квадрат: 0.001 — модель объясняет только 0.1% вариации данных среди женщин, что говорит о слабой связи между численностью населения и депрессией.\n",
        "P-значение (Prob (F-statistic)): 0.00621 — это также меньше 0.05, что указывает на статистическую значимость, но опять же, влияние крайне незначительное.\n",
        "Общие выводы:\n",
        "Несмотря на статистически значимые результаты, влияние численности населения на распространенность депрессии как у мужчин, так и у женщин, очень незначительное, о чем свидетельствует очень маленькое значение коэффициента и низкие значения\n",
        "𝑅\n",
        "2\n",
        "R\n",
        "2\n",
        " .\n",
        "Модель не объясняет существенную часть вариации в данных, что говорит о том, что другие факторы, помимо численности населения, имеют более важное влияние на распространенность депрессии.\n",
        "Многоколлинеарность (как указано в \"Notes\") может быть проблемой, так как число условности модели (\n",
        "Cond. No.\n",
        "=\n",
        "1.34\n",
        "𝑒\n",
        "+\n",
        "08\n",
        "Cond. No.=1.34e+08) очень высокое, что может указывать на потенциальные проблемы с числовой стабильностью."
      ],
      "metadata": {
        "id": "wPFNCotiu2qm"
      }
    },
    {
      "cell_type": "markdown",
      "source": [
        "#  Гендерные различия в депрессии"
      ],
      "metadata": {
        "id": "a1VRYsL3sQO_"
      }
    },
    {
      "cell_type": "code",
      "source": [
        "from scipy.stats import ttest_ind\n",
        "\n",
        "# Тест Стьюдента для мужчин и женщин\n",
        "t_stat, p_val = ttest_ind(df_filtered['Prevalence - Depressive disorders - Sex: Male - Age: Age-standardized (Percent)'],\n",
        "                          df_filtered['Prevalence - Depressive disorders - Sex: Female - Age: Age-standardized (Percent)'])\n",
        "\n",
        "print(f\"T-test for Gender Differences: t-stat={t_stat}, p-value={p_val}\")\n"
      ],
      "metadata": {
        "colab": {
          "base_uri": "https://localhost:8080/"
        },
        "id": "_DgcNTRksTzr",
        "outputId": "eceb8d49-fabc-4f69-af46-8cfc63c629a2"
      },
      "execution_count": 80,
      "outputs": [
        {
          "output_type": "stream",
          "name": "stdout",
          "text": [
            "T-test for Gender Differences: t-stat=-86.5927534180958, p-value=0.0\n"
          ]
        }
      ]
    },
    {
      "cell_type": "markdown",
      "source": [
        "Выводы по результатам Теста Стьюдента (T-test):\n",
        "T-статистика: -86.59 — это значение указывает на очень сильное различие в распространенности депрессии между мужчинами и женщинами. Отрицательное значение t-статистики указывает на то, что средний уровень депрессии среди женщин значительно выше, чем у мужчин.\n",
        "\n",
        "P-значение: 0.0 — это значение указывает на то, что вероятность того, что различия между мужчинами и женщинами возникли случайно, практически равна нулю (меньше 0.05). Следовательно, различия между мужчинами и женщинами статистически значимы.\n",
        "\n",
        "Общие выводы:\n",
        "Тест Стьюдента показал, что существует статистически значимое различие в распространенности депрессии между мужчинами и женщинами. Это подтверждает известный факт, что депрессия чаще встречается среди женщин, чем среди мужчин."
      ],
      "metadata": {
        "id": "QmX5WMtEvBfE"
      }
    },
    {
      "cell_type": "markdown",
      "source": [
        "# Влияние исторических событий"
      ],
      "metadata": {
        "id": "i2eJMFiOsXsh"
      }
    },
    {
      "cell_type": "code",
      "source": [
        "from statsmodels.tsa.arima.model import ARIMA\n",
        "# Делаем временной ряд для одного из показателей, например, по мужчинам\n",
        "depression_male_ts = df_filtered.groupby('Year')['Prevalence - Depressive disorders - Sex: Male - Age: Age-standardized (Percent)'].mean()\n",
        "\n",
        "# Модель ARIMA (с дополнительными регрессорами, например, исторические события)\n",
        "model = ARIMA(depression_male_ts, order=(1, 1, 1))  # Выберите соответствующий порядок ARIMA\n",
        "model_fit = model.fit()\n",
        "\n",
        "# Вывод результатов\n",
        "print(model_fit.summary())\n"
      ],
      "metadata": {
        "colab": {
          "base_uri": "https://localhost:8080/"
        },
        "id": "ZHvHDfkCsYjY",
        "outputId": "283fe766-f2f8-46b4-b43c-3dc1bf56c929"
      },
      "execution_count": 81,
      "outputs": [
        {
          "output_type": "stream",
          "name": "stderr",
          "text": [
            "/usr/local/lib/python3.10/dist-packages/statsmodels/tsa/base/tsa_model.py:473: ValueWarning: An unsupported index was provided. As a result, forecasts cannot be generated. To use the model for forecasting, use one of the supported classes of index.\n",
            "  self._init_dates(dates, freq)\n",
            "/usr/local/lib/python3.10/dist-packages/statsmodels/tsa/base/tsa_model.py:473: ValueWarning: An unsupported index was provided. As a result, forecasts cannot be generated. To use the model for forecasting, use one of the supported classes of index.\n",
            "  self._init_dates(dates, freq)\n",
            "/usr/local/lib/python3.10/dist-packages/statsmodels/tsa/base/tsa_model.py:473: ValueWarning: An unsupported index was provided. As a result, forecasts cannot be generated. To use the model for forecasting, use one of the supported classes of index.\n",
            "  self._init_dates(dates, freq)\n",
            "/usr/local/lib/python3.10/dist-packages/statsmodels/tsa/statespace/sarimax.py:978: UserWarning: Non-invertible starting MA parameters found. Using zeros as starting parameters.\n",
            "  warn('Non-invertible starting MA parameters found.'\n"
          ]
        },
        {
          "output_type": "stream",
          "name": "stdout",
          "text": [
            "                                                              SARIMAX Results                                                              \n",
            "===========================================================================================================================================\n",
            "Dep. Variable:     Prevalence - Depressive disorders - Sex: Male - Age: Age-standardized (Percent)   No. Observations:                   30\n",
            "Model:                                                                              ARIMA(1, 1, 1)   Log Likelihood                 137.488\n",
            "Date:                                                                             Mon, 07 Oct 2024   AIC                           -268.977\n",
            "Time:                                                                                     12:08:33   BIC                           -264.875\n",
            "Sample:                                                                                          0   HQIC                          -267.692\n",
            "                                                                                              - 30                                         \n",
            "Covariance Type:                                                                               opg                                         \n",
            "==============================================================================\n",
            "                 coef    std err          z      P>|z|      [0.025      0.975]\n",
            "------------------------------------------------------------------------------\n",
            "ar.L1          0.7554      0.185      4.094      0.000       0.394       1.117\n",
            "ma.L1       5.819e-06      0.276   2.11e-05      1.000      -0.542       0.542\n",
            "sigma2      4.325e-06    1.3e-06      3.335      0.001    1.78e-06    6.87e-06\n",
            "===================================================================================\n",
            "Ljung-Box (L1) (Q):                  12.57   Jarque-Bera (JB):                 1.75\n",
            "Prob(Q):                              0.00   Prob(JB):                         0.42\n",
            "Heteroskedasticity (H):               2.87   Skew:                             0.57\n",
            "Prob(H) (two-sided):                  0.11   Kurtosis:                         3.36\n",
            "===================================================================================\n",
            "\n",
            "Warnings:\n",
            "[1] Covariance matrix calculated using the outer product of gradients (complex-step).\n"
          ]
        }
      ]
    },
    {
      "cell_type": "markdown",
      "source": [
        "Автокорреляция: Модель показала наличие значительного авторегрессионного компонента (AR(1)), что указывает на то, что предыдущие значения депрессии среди мужчин оказывают значительное влияние на текущие значения.\n",
        "\n",
        "MA(1) не значим: Компонент скользящего среднего (MA(1)) не оказывает влияния на модель, так как его коэффициент близок к нулю.\n",
        "\n",
        "Дополнительные улучшения: Ljung-Box тест показал наличие автокорреляции в остатках, что говорит о том, что модель может быть улучшена с помощью добавления дополнительных параметров или использования более сложных моделей, например, SARIMA или включения дополнительных регрессоров (исторические события, экономические факторы и т.д.)."
      ],
      "metadata": {
        "id": "Gwj5OTkzvVJI"
      }
    },
    {
      "cell_type": "markdown",
      "source": [
        "# 6. Прогнозирование распространенности депрессии"
      ],
      "metadata": {
        "id": "4GzJhUEIseXj"
      }
    },
    {
      "cell_type": "code",
      "source": [
        "import pandas as pd\n",
        "from statsmodels.tsa.arima.model import ARIMA\n",
        "\n",
        "# Убедимся, что индекс — это временной ряд с годовой частотой (Year-End)\n",
        "depression_male_ts.index = pd.date_range(start=str(depression_male_ts.index.min()), periods=len(depression_male_ts), freq='YE')\n",
        "\n",
        "# Модель временного ряда ARIMA\n",
        "model = ARIMA(depression_male_ts, order=(1, 1, 1))\n",
        "model_fit = model.fit()\n",
        "\n",
        "# Прогноз на 10 лет вперед\n",
        "forecast = model_fit.forecast(steps=10)\n",
        "\n",
        "# Приводим прогноз к правильному временному индексу (следующие 10 лет)\n",
        "forecast_index = pd.date_range(start=depression_male_ts.index[-1] + pd.DateOffset(years=1), periods=10, freq='YE')\n",
        "forecast = pd.Series(forecast, index=forecast_index)\n",
        "\n",
        "# Вывод прогнозов\n",
        "print(forecast)\n"
      ],
      "metadata": {
        "colab": {
          "base_uri": "https://localhost:8080/"
        },
        "id": "am8wNdh1shDD",
        "outputId": "97bab878-794b-4db5-c744-a88cafc0ce4b"
      },
      "execution_count": 82,
      "outputs": [
        {
          "output_type": "stream",
          "name": "stderr",
          "text": [
            "/usr/local/lib/python3.10/dist-packages/statsmodels/tsa/statespace/sarimax.py:978: UserWarning: Non-invertible starting MA parameters found. Using zeros as starting parameters.\n",
            "  warn('Non-invertible starting MA parameters found.'\n"
          ]
        },
        {
          "output_type": "stream",
          "name": "stdout",
          "text": [
            "2020-12-31    3.157760\n",
            "2021-12-31    3.162444\n",
            "2022-12-31    3.165982\n",
            "2023-12-31    3.168655\n",
            "2024-12-31    3.170673\n",
            "2025-12-31    3.172198\n",
            "2026-12-31    3.173350\n",
            "2027-12-31    3.174220\n",
            "2028-12-31    3.174877\n",
            "2029-12-31    3.175374\n",
            "Freq: YE-DEC, Name: predicted_mean, dtype: float64\n"
          ]
        }
      ]
    },
    {
      "cell_type": "markdown",
      "source": [
        "Прогноз по модели ARIMA на следующие 10 лет выглядит следующим образом:\n",
        "\n",
        "Год\tПрогнозируемая распространенность депрессии у мужчин (%)\n",
        "\n",
        "2020-12-31\t3.157760\n",
        "\n",
        "2021-12-31\t3.162444\n",
        "\n",
        "2022-12-31\t3.165982\n",
        "\n",
        "2023-12-31\t3.168655\n",
        "\n",
        "2024-12-31\t3.170673\n",
        "\n",
        "2025-12-31\t3.172198\n",
        "\n",
        "2026-12-31\t3.173350\n",
        "\n",
        "2027-12-31\t3.174220\n",
        "\n",
        "2028-12-31\t3.174877\n",
        "\n",
        "2029-12-31\t3.175374\n",
        "\n",
        "\n",
        "Интерпретация:\n",
        "Прогнозы показывают, что в следующие 10 лет распространенность депрессии среди мужчин будет постепенно увеличиваться, но очень незначительно. Прогнозируемый рост находится в пределах нескольких сотых процента.\n",
        "\n",
        "Предупреждение о неинвертируемых параметрах MA: Модель ARIMA пытается настроить компонент скользящего среднего (MA), но параметр не был инвертируемым, поэтому модель установила начальные параметры MA в ноль. Это может означать, что влияние компонента скользящего среднего в модели минимально или отсутствует. Для улучшения модели можно попробовать использовать только компонент AR (авторегрессия) без MA (например, модель ARIMA(1, 1, 0))."
      ],
      "metadata": {
        "id": "w_YhFxklvvje"
      }
    },
    {
      "cell_type": "markdown",
      "source": [
        "# 7. Кластерный анализ стран"
      ],
      "metadata": {
        "id": "9AoZa9ijskgo"
      }
    },
    {
      "cell_type": "code",
      "source": [
        "from sklearn.cluster import KMeans\n",
        "from sklearn.impute import SimpleImputer\n",
        "\n",
        "# Заменяем пропущенные значения средними по колонке\n",
        "imputer = SimpleImputer(strategy='mean')\n",
        "X = df_filtered[['Prevalence - Depressive disorders - Sex: Male - Age: Age-standardized (Percent)',\n",
        "                 'Prevalence - Depressive disorders - Sex: Female - Age: Age-standardized (Percent)',\n",
        "                 'Population (historical estimates)']]\n",
        "\n",
        "X_imputed = imputer.fit_transform(X)\n",
        "\n",
        "# K-means с 3 кластерами\n",
        "kmeans = KMeans(n_clusters=3, random_state=0).fit(X_imputed)\n",
        "\n",
        "# Создаем копию DataFrame, чтобы избежать SettingWithCopyWarning\n",
        "df_filtered_copy = df_filtered.copy()\n",
        "\n",
        "# Добавляем кластеры в копию DataFrame через .loc\n",
        "df_filtered_copy.loc[:, 'Cluster'] = kmeans.labels_\n",
        "\n",
        "# Вывод информации о кластерах\n",
        "print(df_filtered_copy[['Entity', 'Cluster']].drop_duplicates().head())\n"
      ],
      "metadata": {
        "colab": {
          "base_uri": "https://localhost:8080/"
        },
        "id": "9PZCwDPisl0I",
        "outputId": "81304edb-58c6-4fe3-d777-779462d6f98d"
      },
      "execution_count": 83,
      "outputs": [
        {
          "output_type": "stream",
          "name": "stdout",
          "text": [
            "              Entity  Cluster\n",
            "1        Afghanistan        2\n",
            "550          Albania        2\n",
            "809          Algeria        2\n",
            "1068  American Samoa        2\n",
            "1182         Andorra        2\n"
          ]
        }
      ]
    },
    {
      "cell_type": "markdown",
      "source": [
        "Результаты кластеризации показывают, что страны, такие как Afghanistan, Albania, Algeria, American Samoa, и Andorra были отнесены к одному и тому же кластеру (Cluster 2).\n",
        "\n",
        "Интерпретация:\n",
        "Кластер 2 (и другие кластеры) представляет группы стран, которые имеют схожие показатели по распространенности депрессивных расстройств среди мужчин и женщин, а также схожие значения численности населения.\n",
        "\n",
        "Эти страны могут находиться в одном кластере из-за схожести в следующих показателях:\n",
        "\n",
        "Уровень депрессии среди мужчин и женщин.\n",
        "Численность населения, если она влияет на результаты кластеризации."
      ],
      "metadata": {
        "id": "wChLdQU7wL_9"
      }
    },
    {
      "cell_type": "code",
      "source": [
        "import matplotlib.pyplot as plt\n",
        "from sklearn.decomposition import PCA\n",
        "\n",
        "# Применим PCA для уменьшения размерности до 2D для визуализации\n",
        "pca = PCA(n_components=2)\n",
        "X_pca = pca.fit_transform(X_imputed)\n",
        "\n",
        "# Построим график кластеров\n",
        "plt.figure(figsize=(10, 6))\n",
        "plt.scatter(X_pca[:, 0], X_pca[:, 1], c=kmeans.labels_, cmap='viridis')\n",
        "plt.title('Кластеры стран по показателям депрессии и численности населения')\n",
        "plt.xlabel('Первая главная компонента')\n",
        "plt.ylabel('Вторая главная компонента')\n",
        "plt.colorbar(label='Кластер')\n",
        "plt.show()\n"
      ],
      "metadata": {
        "colab": {
          "base_uri": "https://localhost:8080/",
          "height": 564
        },
        "id": "wlKU28EOwMi6",
        "outputId": "14998d93-cdbd-4743-fd6a-165a0a12b42e"
      },
      "execution_count": 84,
      "outputs": [
        {
          "output_type": "display_data",
          "data": {
            "text/plain": [
              "<Figure size 1000x600 with 2 Axes>"
            ],
            "image/png": "[encoded data removed]"
          },
          "metadata": {}
        }
      ]
    },
    {
      "cell_type": "markdown",
      "source": [
        "# 8. Региональные исследования"
      ],
      "metadata": {
        "id": "PM_W9m21sozq"
      }
    },
    {
      "cell_type": "code",
      "source": [
        "# Найдем страны с максимальной и минимальной депрессией среди мужчин и женщин\n",
        "max_male_country = df_filtered.loc[df_filtered['Prevalence - Depressive disorders - Sex: Male - Age: Age-standardized (Percent)'].idxmax()]['Entity']\n",
        "min_male_country = df_filtered.loc[df_filtered['Prevalence - Depressive disorders - Sex: Male - Age: Age-standardized (Percent)'].idxmin()]['Entity']\n",
        "\n",
        "max_female_country = df_filtered.loc[df_filtered['Prevalence - Depressive disorders - Sex: Female - Age: Age-standardized (Percent)'].idxmax()]['Entity']\n",
        "min_female_country = df_filtered.loc[df_filtered['Prevalence - Depressive disorders - Sex: Female - Age: Age-standardized (Percent)'].idxmin()]['Entity']\n",
        "\n",
        "print(f\"Max Male Depression Country: {max_male_country}, Min Male Depression Country: {min_male_country}\")\n",
        "print(f\"Max Female Depression Country: {max_female_country}, Min Female Depression Country: {min_female_country}\")\n"
      ],
      "metadata": {
        "colab": {
          "base_uri": "https://localhost:8080/"
        },
        "id": "TNeoeDoFsrDm",
        "outputId": "78ca0ed8-2911-4691-cd7b-8c0e01341685"
      },
      "execution_count": 85,
      "outputs": [
        {
          "output_type": "stream",
          "name": "stdout",
          "text": [
            "Max Male Depression Country: Palestine, Min Male Depression Country: Brunei\n",
            "Max Female Depression Country: Greenland, Min Female Depression Country: Brunei\n"
          ]
        }
      ]
    },
    {
      "cell_type": "markdown",
      "source": [
        "\n",
        "Максимальная депрессия среди мужчин: Palestine — страна с самой высокой распространенностью депрессии среди мужчин.\n",
        "\n",
        "Минимальная депрессия среди мужчин: Brunei — страна с самой низкой распространенностью депрессии среди мужчин.\n",
        "\n",
        "Максимальная депрессия среди женщин: Greenland — страна с самой высокой распространенностью депрессии среди женщин.\n",
        "\n",
        "Минимальная депрессия среди женщин: Brunei — страна с самой низкой распространенностью депрессии среди женщин.\n",
        "\n",
        "Интерпретация:\n",
        "Palestine и Greenland имеют самые высокие показатели депрессии среди мужчин и женщин соответственно. Это может быть связано с уникальными социальными, экономическими или культурными факторами, которые влияют на уровень депрессии в этих странах.\n",
        "\n",
        "Brunei демонстрирует наименьшую распространенность депрессии как среди мужчин, так и среди женщин. Это может указывать на благоприятные социальные или экономические условия, которые способствуют низкому уровню депрессии."
      ],
      "metadata": {
        "id": "ixobUaa2wc6w"
      }
    },
    {
      "cell_type": "markdown",
      "source": [
        "# Выводы"
      ],
      "metadata": {
        "id": "-s9T0ac0wxvy"
      }
    },
    {
      "cell_type": "markdown",
      "source": [
        "1. Анализ распространенности депрессии по годам:\n",
        "Исследование показало, что уровень депрессии среди мужчин и женщин демонстрировал постепенное снижение с 1990 по 2019 годы. Этот тренд был особенно заметен после 2005 года, хотя различие между мужчинами и женщинами сохранялось: у женщин депрессия была в среднем выше, чем у мужчин.\n",
        "Максимальные значения депрессии среди мужчин наблюдались в 1990-х годах, а среди женщин в 1995-1999 годах, после чего показатели стабилизировались и начали снижаться.\n",
        "\n",
        "2. Тест ANOVA по континентам:\n",
        "Тест ANOVA показал, что различия в распространенности депрессии среди мужчин и женщин значимо различаются между континентами. Это указывает на влияние культурных, социальных, экономических и других региональных факторов на уровень депрессии.\n",
        "Статистически значимые результаты (p-значения были меньше 0.05) подтверждают наличие различий между континентами, что указывает на необходимость учитывать региональные особенности при изучении депрессии.\n",
        "\n",
        "3. Множественная регрессия (с численностью населения):\n",
        "Множественная регрессия показала слабую отрицательную связь между численностью населения и распространенностью депрессии как среди мужчин, так и среди женщин. Однако модель имела низкий\n",
        "𝑅\n",
        "2\n",
        "R\n",
        "2\n",
        "  (0.1-0.2%), что указывает на то, что численность населения практически не объясняет вариации в уровне депрессии.\n",
        "Это подтверждает, что другие факторы (например, социально-экономические, политические или культурные) имеют более значительное влияние на распространенность депрессии, и численность населения не является ключевым фактором.\n",
        "\n",
        "4. Тест Стьюдента для гендерных различий:\n",
        "Тест Стьюдента выявил статистически значимые различия между уровнями депрессии у мужчин и женщин. Уровень депрессии среди женщин значительно выше, чем у мужчин, что подтверждает общие мировые тенденции.\n",
        "Эти различия могли быть связаны с культурными, социальными и биологическими факторами, которые влияют на распространенность депрессии среди женщин.\n",
        "\n",
        "5. Модель ARIMA для временного ряда:\n",
        "Модель ARIMA на основе временного ряда показала прогноз постепенного небольшого увеличения распространенности депрессии среди мужчин в следующие 10 лет. Однако прогнозируемый рост минимален, и модель указывает на стабильность уровня депрессии.\n",
        "ARIMA также показала, что компоненты скользящего среднего (MA) имеют малое влияние, что говорит о том, что уровень депрессии может быть связан с более устойчивыми трендами, чем краткосрочные колебания.\n",
        "\n",
        "6. Кластеризация K-means:\n",
        "Кластеризация показала, что страны могут быть сгруппированы в несколько кластеров на основе уровня депрессии и численности населения. Такие страны, как Palestine и Greenland, показали наиболее высокие уровни депрессии, в то время как Brunei имела наименьшие показатели среди мужчин и женщин.\n",
        "Кластеризация помогает выявить группы стран с похожими показателями депрессии и может быть полезной для изучения региональных или социально-экономических факторов.\n",
        "\n",
        "7. Анализ по странам с максимальной и минимальной депрессией:\n",
        "Страны с самыми высокими уровнями депрессии: Palestine (для мужчин) и Greenland (для женщин). Эти страны могут испытывать уникальные экономические, культурные или геополитические трудности, что способствует повышенной депрессии.\n",
        "Brunei показала минимальный уровень депрессии как среди мужчин, так и среди женщин, что может свидетельствовать о благоприятных социально-экономических условиях."
      ],
      "metadata": {
        "id": "lvOqjiHGwzze"
      }
    }
  ]
}